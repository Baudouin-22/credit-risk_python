{
 "metadata": {
  "language_info": {
   "codemirror_mode": {
    "name": "ipython",
    "version": 3
   },
   "file_extension": ".py",
   "mimetype": "text/x-python",
   "name": "python",
   "nbconvert_exporter": "python",
   "pygments_lexer": "ipython3",
   "version": "3.8.1"
  },
  "orig_nbformat": 2,
  "kernelspec": {
   "name": "python3",
   "display_name": "Python 3.8.1 64-bit"
  },
  "metadata": {
   "interpreter": {
    "hash": "e3554ce64491107d8cf4b9652a790dd08af6fe1aa190633f78d4dec965a2f202"
   }
  },
  "interpreter": {
   "hash": "e3554ce64491107d8cf4b9652a790dd08af6fe1aa190633f78d4dec965a2f202"
  }
 },
 "nbformat": 4,
 "nbformat_minor": 2,
 "cells": [
  {
   "cell_type": "code",
   "execution_count": 1,
   "source": [
    "import numpy as np\r\n",
    "import pandas as pd\r\n",
    "import matplotlib.pyplot as plt\r\n",
    "from sklearn.preprocessing import StandardScaler\r\n",
    "from sklearn.linear_model import LogisticRegression\r\n",
    "from sklearn.metrics import classification_report, confusion_matrix\r\n",
    "\r\n",
    "data = pd.read_csv(\"data_rating.csv\", sep=\";\")\r\n",
    "print(\"Dimension = {}\".format(data.shape))\r\n",
    "data.head()"
   ],
   "outputs": [
    {
     "output_type": "stream",
     "name": "stdout",
     "text": [
      "Dimension = (4999, 34)\n"
     ]
    },
    {
     "output_type": "execute_result",
     "data": {
      "text/plain": [
       "   noteSecteur  notePositionnement  noteReferences  noteActionnariat  \\\n",
       "0          2.6                 0.9             4.2               3.2   \n",
       "1          3.8                 1.8             3.4               2.7   \n",
       "2          3.0                 1.8             3.8               1.3   \n",
       "3          3.4                 2.0             1.5               1.6   \n",
       "4          2.0                 0.9             1.9               3.0   \n",
       "\n",
       "   noteGouvernance  noteAvisBanqueCentrale  noteCreditCaisse  noteFEDImport  \\\n",
       "0              3.9                     3.4               3.6            1.7   \n",
       "1              1.1                     4.2               4.5            1.2   \n",
       "2              4.1                     4.1               3.3            2.1   \n",
       "3              2.7                     1.7               3.3            2.8   \n",
       "4              3.4                     4.6               4.1            4.5   \n",
       "\n",
       "   noteCMTInvestissement  noteMouvementsCompte  ...  Tresorerie  \\\n",
       "0                    3.8                   0.8  ...      877942   \n",
       "1                    2.7                   2.4  ...    -3231476   \n",
       "2                    1.9                   3.1  ...       58964   \n",
       "3                    3.3                   1.5  ...     4438968   \n",
       "4                    0.9                   2.2  ...     -189968   \n",
       "\n",
       "   ChargesFinancieres      DMLT  ChargesPersonnel  AchatsConsommes  AchatsTTC  \\\n",
       "0             2594541   5444598           2873239          2191592    3487535   \n",
       "1             6357126  18814407           8169904          9444683   12145854   \n",
       "2              519213    710273            408069           381126     576979   \n",
       "3             7228236  17660955          11446605         11422598   14122323   \n",
       "4             6950364  15726461           7101591          5158996    9496441   \n",
       "\n",
       "   MoyenneStocks  MoyenneCreances  MoyenneDettesFournisseurs  Defaut  \n",
       "0        2637960          1666487                    2477802       1  \n",
       "1        7502606          9552959                    6715113       1  \n",
       "2         455580           506077                     391513       0  \n",
       "3        7997777          6736956                   10338143       0  \n",
       "4        9094199          4891274                    9121696       1  \n",
       "\n",
       "[5 rows x 34 columns]"
      ],
      "text/html": [
       "<div>\n",
       "<style scoped>\n",
       "    .dataframe tbody tr th:only-of-type {\n",
       "        vertical-align: middle;\n",
       "    }\n",
       "\n",
       "    .dataframe tbody tr th {\n",
       "        vertical-align: top;\n",
       "    }\n",
       "\n",
       "    .dataframe thead th {\n",
       "        text-align: right;\n",
       "    }\n",
       "</style>\n",
       "<table border=\"1\" class=\"dataframe\">\n",
       "  <thead>\n",
       "    <tr style=\"text-align: right;\">\n",
       "      <th></th>\n",
       "      <th>noteSecteur</th>\n",
       "      <th>notePositionnement</th>\n",
       "      <th>noteReferences</th>\n",
       "      <th>noteActionnariat</th>\n",
       "      <th>noteGouvernance</th>\n",
       "      <th>noteAvisBanqueCentrale</th>\n",
       "      <th>noteCreditCaisse</th>\n",
       "      <th>noteFEDImport</th>\n",
       "      <th>noteCMTInvestissement</th>\n",
       "      <th>noteMouvementsCompte</th>\n",
       "      <th>...</th>\n",
       "      <th>Tresorerie</th>\n",
       "      <th>ChargesFinancieres</th>\n",
       "      <th>DMLT</th>\n",
       "      <th>ChargesPersonnel</th>\n",
       "      <th>AchatsConsommes</th>\n",
       "      <th>AchatsTTC</th>\n",
       "      <th>MoyenneStocks</th>\n",
       "      <th>MoyenneCreances</th>\n",
       "      <th>MoyenneDettesFournisseurs</th>\n",
       "      <th>Defaut</th>\n",
       "    </tr>\n",
       "  </thead>\n",
       "  <tbody>\n",
       "    <tr>\n",
       "      <th>0</th>\n",
       "      <td>2.6</td>\n",
       "      <td>0.9</td>\n",
       "      <td>4.2</td>\n",
       "      <td>3.2</td>\n",
       "      <td>3.9</td>\n",
       "      <td>3.4</td>\n",
       "      <td>3.6</td>\n",
       "      <td>1.7</td>\n",
       "      <td>3.8</td>\n",
       "      <td>0.8</td>\n",
       "      <td>...</td>\n",
       "      <td>877942</td>\n",
       "      <td>2594541</td>\n",
       "      <td>5444598</td>\n",
       "      <td>2873239</td>\n",
       "      <td>2191592</td>\n",
       "      <td>3487535</td>\n",
       "      <td>2637960</td>\n",
       "      <td>1666487</td>\n",
       "      <td>2477802</td>\n",
       "      <td>1</td>\n",
       "    </tr>\n",
       "    <tr>\n",
       "      <th>1</th>\n",
       "      <td>3.8</td>\n",
       "      <td>1.8</td>\n",
       "      <td>3.4</td>\n",
       "      <td>2.7</td>\n",
       "      <td>1.1</td>\n",
       "      <td>4.2</td>\n",
       "      <td>4.5</td>\n",
       "      <td>1.2</td>\n",
       "      <td>2.7</td>\n",
       "      <td>2.4</td>\n",
       "      <td>...</td>\n",
       "      <td>-3231476</td>\n",
       "      <td>6357126</td>\n",
       "      <td>18814407</td>\n",
       "      <td>8169904</td>\n",
       "      <td>9444683</td>\n",
       "      <td>12145854</td>\n",
       "      <td>7502606</td>\n",
       "      <td>9552959</td>\n",
       "      <td>6715113</td>\n",
       "      <td>1</td>\n",
       "    </tr>\n",
       "    <tr>\n",
       "      <th>2</th>\n",
       "      <td>3.0</td>\n",
       "      <td>1.8</td>\n",
       "      <td>3.8</td>\n",
       "      <td>1.3</td>\n",
       "      <td>4.1</td>\n",
       "      <td>4.1</td>\n",
       "      <td>3.3</td>\n",
       "      <td>2.1</td>\n",
       "      <td>1.9</td>\n",
       "      <td>3.1</td>\n",
       "      <td>...</td>\n",
       "      <td>58964</td>\n",
       "      <td>519213</td>\n",
       "      <td>710273</td>\n",
       "      <td>408069</td>\n",
       "      <td>381126</td>\n",
       "      <td>576979</td>\n",
       "      <td>455580</td>\n",
       "      <td>506077</td>\n",
       "      <td>391513</td>\n",
       "      <td>0</td>\n",
       "    </tr>\n",
       "    <tr>\n",
       "      <th>3</th>\n",
       "      <td>3.4</td>\n",
       "      <td>2.0</td>\n",
       "      <td>1.5</td>\n",
       "      <td>1.6</td>\n",
       "      <td>2.7</td>\n",
       "      <td>1.7</td>\n",
       "      <td>3.3</td>\n",
       "      <td>2.8</td>\n",
       "      <td>3.3</td>\n",
       "      <td>1.5</td>\n",
       "      <td>...</td>\n",
       "      <td>4438968</td>\n",
       "      <td>7228236</td>\n",
       "      <td>17660955</td>\n",
       "      <td>11446605</td>\n",
       "      <td>11422598</td>\n",
       "      <td>14122323</td>\n",
       "      <td>7997777</td>\n",
       "      <td>6736956</td>\n",
       "      <td>10338143</td>\n",
       "      <td>0</td>\n",
       "    </tr>\n",
       "    <tr>\n",
       "      <th>4</th>\n",
       "      <td>2.0</td>\n",
       "      <td>0.9</td>\n",
       "      <td>1.9</td>\n",
       "      <td>3.0</td>\n",
       "      <td>3.4</td>\n",
       "      <td>4.6</td>\n",
       "      <td>4.1</td>\n",
       "      <td>4.5</td>\n",
       "      <td>0.9</td>\n",
       "      <td>2.2</td>\n",
       "      <td>...</td>\n",
       "      <td>-189968</td>\n",
       "      <td>6950364</td>\n",
       "      <td>15726461</td>\n",
       "      <td>7101591</td>\n",
       "      <td>5158996</td>\n",
       "      <td>9496441</td>\n",
       "      <td>9094199</td>\n",
       "      <td>4891274</td>\n",
       "      <td>9121696</td>\n",
       "      <td>1</td>\n",
       "    </tr>\n",
       "  </tbody>\n",
       "</table>\n",
       "<p>5 rows × 34 columns</p>\n",
       "</div>"
      ]
     },
     "metadata": {},
     "execution_count": 1
    }
   ],
   "metadata": {}
  },
  {
   "cell_type": "code",
   "execution_count": 2,
   "source": [
    "#data.to_dict()"
   ],
   "outputs": [],
   "metadata": {}
  },
  {
   "cell_type": "code",
   "execution_count": 3,
   "source": [
    "print(type(data))"
   ],
   "outputs": [
    {
     "output_type": "stream",
     "name": "stdout",
     "text": [
      "<class 'pandas.core.frame.DataFrame'>\n"
     ]
    }
   ],
   "metadata": {}
  },
  {
   "cell_type": "markdown",
   "source": [
    "# I) CONSTRUCTION DU DATASET\r\n",
    "## 1) Libellé des Ratios et Fonction de lecture du dataset\r\n",
    "## 2) Construction des Ratios et de la variable expliqué"
   ],
   "metadata": {}
  },
  {
   "cell_type": "markdown",
   "source": [
    "## I.1) Libellé des Ratios et Fonction de convertion"
   ],
   "metadata": {}
  },
  {
   "cell_type": "code",
   "execution_count": 4,
   "source": [
    "# Récupération de la taille de l'échantillon\r\n",
    "n = data.shape[0]\r\n",
    "# Libellé des Ratios\r\n",
    "features = ['noteSecteur','notePositionnement','noteReferences','noteActionnariat','noteGouvernance','noteAvisBanqueCentrale',\r\n",
    "'noteCreditCaisse','noteFEDImport','noteCMTInvestissement','noteMouvementsCompte','RN_CA','REX_AE','EBE_CA','REX_CA','FPN_TB',\r\n",
    "'FR_BFR','CP_AI','FPN_AIhp', 'CFN_CA', 'TN_CA', 'CharFin_EBE','CharFin_REX','DMLT_CFN','DMLT_EBE','DMLT_CP','CharFin_CA',\r\n",
    "'DMLT_FPN', 'CP_TB','CharFin_VA','AI_CA','CharPers_CA','D_CLT','D_STK','D_Fourn', 'FR_CA']\r\n",
    "nRatios = len(features)\r\n",
    "X = np.zeros((n,len(features)))\r\n",
    "ylist = list()\r\n",
    "print(X.shape)"
   ],
   "outputs": [
    {
     "output_type": "stream",
     "name": "stdout",
     "text": [
      "(4999, 35)\n"
     ]
    }
   ],
   "metadata": {}
  },
  {
   "cell_type": "code",
   "execution_count": 5,
   "source": [
    "# Fonction Permettant de convertir en float les nombre dont le séparateur décimal est la virgule ','\r\n",
    "def toFloat(str0):\r\n",
    "    value = 0\r\n",
    "    if type(str0) == str:\r\n",
    "        elmts = str0.split(sep=',')\r\n",
    "        str1 = elmts[0]\r\n",
    "        if len(elmts) > 1 :\r\n",
    "            str1 += '.' + elmts[1]\r\n",
    "        value = float(str1)\r\n",
    "    else:\r\n",
    "        value = float(str0)\r\n",
    "    return value\r\n",
    "#print(float(2.5))"
   ],
   "outputs": [],
   "metadata": {}
  },
  {
   "cell_type": "markdown",
   "source": [
    "## I.2) Construction des Ratios et de la variable expliqué"
   ],
   "metadata": {}
  },
  {
   "cell_type": "code",
   "execution_count": 6,
   "source": [
    "for i in range(n):\r\n",
    "    X[i][0] = data['noteSecteur'][i]\r\n",
    "    X[i][1] = data['notePositionnement'][i]\r\n",
    "    X[i][2] = data['noteReferences'][i]\r\n",
    "    X[i][3] = data['noteActionnariat'][i]\r\n",
    "    X[i][4] = data['noteGouvernance'][i]\r\n",
    "    X[i][5] = data['noteAvisBanqueCentrale'][i]\r\n",
    "    X[i][6] = data['noteCreditCaisse'][i]\r\n",
    "    X[i][7] = data['noteFEDImport'][i]\r\n",
    "    X[i][8] = data['noteCMTInvestissement'][i]\r\n",
    "    X[i][9] = data['noteMouvementsCompte'][i]\r\n",
    "    X[i][10] = data['ResultatNet'][i]/data['CA'][i]\r\n",
    "    X[i][11] = data['ResultatExploitation'][i]/data['ActifsEconomiques'][i]\r\n",
    "    X[i][12] = data['EBE'][i]/data['CA'][i]\r\n",
    "    X[i][13] = data['ResultatExploitation'][i]/data['CA'][i]\r\n",
    "    X[i][14] = data['FondsPropresNet'][i]/data['TotalBilan'][i]\r\n",
    "    X[i][15] = data['FondsRoulement'][i]/data['BFR'][i]\r\n",
    "    X[i][16] = data['CapitauxPermanents'][i]/data['ActifsImmobilises'][i]\r\n",
    "    X[i][17] = data['FondsPropresNet'][i]/data['ActifsImmobilisesHP'][i]\r\n",
    "    X[i][18] = data['CashFlowNet'][i]/data['CA'][i]\r\n",
    "    X[i][19] = data['Tresorerie'][i]/data['CA'][i]\r\n",
    "    X[i][20] = data['ChargesFinancieres'][i]/data['EBE'][i]\r\n",
    "    X[i][21] = data['ChargesFinancieres'][i]/data['ResultatExploitation'][i]\r\n",
    "    X[i][22] = data['DMLT'][i]/data['CashFlowNet'][i]\r\n",
    "    X[i][23] = data['DMLT'][i]/data['EBE'][i]\r\n",
    "    X[i][24] = data['DMLT'][i]/data['CapitauxPermanents'][i]\r\n",
    "    X[i][25] = data['ChargesFinancieres'][i]/data['CA'][i]\r\n",
    "    X[i][26] = data['DMLT'][i]/data['FondsPropresNet'][i]\r\n",
    "    X[i][27] = data['CapitauxPermanents'][i]/data['TotalBilan'][i]\r\n",
    "    X[i][28] = data['ChargesFinancieres'][i]/data['ValeurAjoutee'][i]\r\n",
    "    X[i][29] = data['ActifsImmobilises'][i]/data['CA'][i]\r\n",
    "    X[i][30] = data['ChargesPersonnel'][i]/data['CA'][i]\r\n",
    "    X[i][31] = (data['MoyenneCreances'][i]*360)/data['CA'][i]\r\n",
    "    X[i][32] = (data['MoyenneStocks'][i]*360)/data['AchatsConsommes'][i]\r\n",
    "    X[i][33] = (data['MoyenneDettesFournisseurs'][i]*360)/data['AchatsTTC'][i]\r\n",
    "    X[i][34] = data['FondsRoulement'][i]/data['CA'][i]\r\n",
    "    ylist.append(int(data.Defaut[i]))\r\n",
    "y = np.array(ylist)\r\n",
    "del(ylist)\r\n",
    "print(X)\r\n",
    "print(y)\r\n",
    "# Fonction d'obtention d'un ratio\r\n",
    "def getRatio(index, X_data):\r\n",
    "    n0 = len(X_data)\r\n",
    "    R = list()\r\n",
    "    for i in range(n0):\r\n",
    "        R.append(X_data[i][index])\r\n",
    "    return R"
   ],
   "outputs": [
    {
     "output_type": "stream",
     "name": "stdout",
     "text": [
      "[[2.60000000e+00 9.00000000e-01 4.20000000e+00 ... 4.33322261e+02\n",
      "  2.55770543e+02 1.85177296e-01]\n",
      " [3.80000000e+00 1.80000000e+00 3.40000000e+00 ... 2.85974464e+02\n",
      "  1.99034228e+02 1.33444539e-01]\n",
      " [3.00000000e+00 1.80000000e+00 3.80000000e+00 ... 4.30326978e+02\n",
      "  2.44280433e+02 1.96392554e-01]\n",
      " ...\n",
      " [1.70000000e+00 9.00000000e-01 2.50000000e+00 ... 5.91128793e+02\n",
      "  2.50279511e+02 1.00121803e-01]\n",
      " [4.00000000e+00 2.90000000e+00 2.00000000e+00 ... 5.18830538e+02\n",
      "  2.72948805e+02 1.43019903e-01]\n",
      " [4.60000000e+00 4.10000000e+00 4.00000000e+00 ... 4.61307744e+02\n",
      "  3.06323353e+02 1.83796783e-01]]\n",
      "[1 1 0 ... 1 1 0]\n"
     ]
    }
   ],
   "metadata": {}
  },
  {
   "cell_type": "markdown",
   "source": [
    "# II) DESCRIPTION DES DONNEES\n",
    "## 1) Test de Skewness\n",
    "## 2) Test de Kurtosis\n",
    "## 3) Test de Normalité de Shapiro Wilk\n",
    "## 4) Test de correlation lineaire (Statistique de pearson)\n",
    "## 5) ANOVA à un facteur (Test de Fisher)"
   ],
   "metadata": {}
  },
  {
   "cell_type": "markdown",
   "source": [
    "## II.1) Test de Skewness"
   ],
   "metadata": {}
  },
  {
   "cell_type": "code",
   "execution_count": 7,
   "source": [
    "from scipy.stats import skew\r\n",
    "positiveSkew = list()\r\n",
    "negativeSkew = list()\r\n",
    "nullSkew = list()\r\n",
    "for j in range(nRatios):\r\n",
    "    currentSkew = skew(getRatio(j, X))\r\n",
    "    if currentSkew > 0:\r\n",
    "        positiveSkew.append('R'+str(j+1))\r\n",
    "    elif currentSkew < 0:\r\n",
    "        negativeSkew.append('R'+str(j+1))\r\n",
    "    else:\r\n",
    "        nullSkew.append('R'+str(j+1))\r\n",
    "print(\"Skewness Positif - Distribution décalée à gauche\")\r\n",
    "print('\\t'+ str(positiveSkew))\r\n",
    "print(\"Skewness Négatif - Distribution décalée à droite\")\r\n",
    "print('\\t'+ str(negativeSkew))\r\n",
    "print(\"Skewness Nul - Variable symétrique (Comme pour une distribution Normale)\")\r\n",
    "print('\\t'+ str(nullSkew))"
   ],
   "outputs": [
    {
     "output_type": "stream",
     "name": "stdout",
     "text": [
      "Skewness Positif - Distribution décalée à gauche\n",
      "\t['R1', 'R5', 'R6', 'R10', 'R11', 'R12', 'R13', 'R14', 'R15', 'R16', 'R17', 'R18', 'R21', 'R22', 'R23', 'R24', 'R25', 'R27', 'R28', 'R29', 'R30', 'R33', 'R34', 'R35']\n",
      "Skewness Négatif - Distribution décalée à droite\n",
      "\t['R2', 'R3', 'R4', 'R7', 'R8', 'R9', 'R19', 'R20', 'R26', 'R31', 'R32']\n",
      "Skewness Nul - Variable symétrique (Comme pour une distribution Normale)\n",
      "\t[]\n"
     ]
    }
   ],
   "metadata": {}
  },
  {
   "cell_type": "markdown",
   "source": [
    "## II.2) Test de Kurtosis"
   ],
   "metadata": {}
  },
  {
   "cell_type": "code",
   "execution_count": 8,
   "source": [
    "from scipy.stats import kurtosis\r\n",
    "positiveKurtosis = list()\r\n",
    "negativeKurtosis = list()\r\n",
    "nullKurtosis = list()\r\n",
    "for j in range(nRatios):\r\n",
    "    currentKurtosis = kurtosis(getRatio(j, X))\r\n",
    "    if currentKurtosis > 0:\r\n",
    "        positiveKurtosis.append('R'+str(j+1))\r\n",
    "    elif currentKurtosis < 0:\r\n",
    "        negativeKurtosis.append('R'+str(j+1))\r\n",
    "    else :\r\n",
    "        nullKurtosis.append('R'+str(j+1))\r\n",
    "\r\n",
    "print(\"Kurtosis Positif - Distribution Pointue\")\r\n",
    "print('\\t'+ str(positiveKurtosis))\r\n",
    "print(\"Kurtosis Négatif - Distribution applatie\")\r\n",
    "print('\\t'+ str(negativeKurtosis))\r\n",
    "print(\"Kurtosis Nul - Distribution ni pointue ni applatie (comme une loi normale)\")\r\n",
    "print('\\t'+ str(nullKurtosis))"
   ],
   "outputs": [
    {
     "output_type": "stream",
     "name": "stdout",
     "text": [
      "Kurtosis Positif - Distribution Pointue\n",
      "\t['R12', 'R15', 'R16', 'R17', 'R18', 'R21', 'R22', 'R24', 'R25', 'R27', 'R28', 'R29']\n",
      "Kurtosis Négatif - Distribution applatie\n",
      "\t['R1', 'R2', 'R3', 'R4', 'R5', 'R6', 'R7', 'R8', 'R9', 'R10', 'R11', 'R13', 'R14', 'R19', 'R20', 'R23', 'R26', 'R30', 'R31', 'R32', 'R33', 'R34', 'R35']\n",
      "Kurtosis Nul - Distribution ni pointue ni applatie (comme une loi normale)\n",
      "\t[]\n"
     ]
    }
   ],
   "metadata": {}
  },
  {
   "cell_type": "markdown",
   "source": [
    "## II.3) Test de Normalité de Shapiro Wilk"
   ],
   "metadata": {}
  },
  {
   "cell_type": "code",
   "execution_count": 9,
   "source": [
    "from scipy.stats import shapiro\r\n",
    "\r\n",
    "for j in range(nRatios):\r\n",
    "\tstat, p = shapiro(getRatio(j, X))\r\n",
    "\tprint('R' + str(j+1) + ' :','stat=%.3f, p=%.3f' % (stat, p))\r\n",
    "\tif p > 0.05:\r\n",
    "\t\tprint('\\tProbablement Gaussienne')\r\n",
    "\telse:\r\n",
    "\t\tprint('\\tProbablement non Gaussienne')"
   ],
   "outputs": [
    {
     "output_type": "stream",
     "name": "stdout",
     "text": [
      "R1 : stat=0.982, p=0.000\n",
      "\tProbablement non Gaussienne\n",
      "R2 : stat=0.981, p=0.000\n",
      "\tProbablement non Gaussienne\n",
      "R3 : stat=0.955, p=0.000\n",
      "\tProbablement non Gaussienne\n",
      "R4 : stat=0.956, p=0.000\n",
      "\tProbablement non Gaussienne\n",
      "R5 : stat=0.951, p=0.000\n",
      "\tProbablement non Gaussienne\n",
      "R6 : stat=0.954, p=0.000\n",
      "\tProbablement non Gaussienne\n",
      "R7 : stat=0.953, p=0.000\n",
      "\tProbablement non Gaussienne\n",
      "R8 : stat=0.952, p=0.000\n",
      "\tProbablement non Gaussienne\n",
      "R9 : stat=0.953, p=0.000\n",
      "\tProbablement non Gaussienne\n",
      "R10 : stat=0.982, p=0.000\n",
      "\tProbablement non Gaussienne\n",
      "R11 : stat=0.956, p=0.000\n",
      "\tProbablement non Gaussienne\n",
      "R12 : stat=0.948, p=0.000\n",
      "\tProbablement non Gaussienne\n",
      "R13 : stat=0.970, p=0.000\n",
      "\tProbablement non Gaussienne\n",
      "R14 : stat=0.995, p=0.000\n",
      "\tProbablement non Gaussienne\n",
      "R15 : stat=0.011, p=0.000\n",
      "\tProbablement non Gaussienne\n",
      "R16 : stat=0.666, p=0.000\n",
      "\tProbablement non Gaussienne\n",
      "R17 : stat=0.957, p=0.000\n",
      "\tProbablement non Gaussienne\n",
      "R18 : stat=0.958, p=0.000\n",
      "\tProbablement non Gaussienne\n",
      "R19 : stat=0.956, p=0.000\n",
      "\tProbablement non Gaussienne\n",
      "R20 : stat=0.999, p=0.000\n",
      "\tProbablement non Gaussienne\n",
      "R21 : stat=0.961, p=0.000\n",
      "\tProbablement non Gaussienne\n",
      "R22 : stat=0.953, p=0.000\n",
      "\tProbablement non Gaussienne\n",
      "R23 : stat=0.966, p=0.000\n",
      "\tProbablement non Gaussienne\n",
      "R24 : stat=0.956, p=0.000\n",
      "\tProbablement non Gaussienne\n",
      "R25 : stat=0.960, p=0.000\n",
      "\tProbablement non Gaussienne\n",
      "R26 : stat=0.952, p=0.000\n",
      "\tProbablement non Gaussienne\n",
      "R27 : stat=0.936, p=0.000\n",
      "\tProbablement non Gaussienne\n",
      "R28 : stat=0.012, p=0.000\n",
      "\tProbablement non Gaussienne\n",
      "R29 : stat=0.962, p=0.000\n",
      "\tProbablement non Gaussienne\n",
      "R30 : stat=0.956, p=0.000\n",
      "\tProbablement non Gaussienne\n",
      "R31 : stat=0.957, p=0.000\n",
      "\tProbablement non Gaussienne\n",
      "R32 : stat=0.954, p=0.000\n",
      "\tProbablement non Gaussienne\n",
      "R33 : stat=0.971, p=0.000\n",
      "\tProbablement non Gaussienne\n",
      "R34 : stat=0.979, p=0.000\n",
      "\tProbablement non Gaussienne\n",
      "R35 : stat=0.951, p=0.000\n",
      "\tProbablement non Gaussienne\n"
     ]
    }
   ],
   "metadata": {}
  },
  {
   "cell_type": "markdown",
   "source": [
    "## II.4) Test de correlation de Pearson (Test de corrélation linéaire)"
   ],
   "metadata": {}
  },
  {
   "cell_type": "code",
   "execution_count": 10,
   "source": [
    "from scipy.stats import pearsonr\r\n",
    "ratiosList = list(range(nRatios))\r\n",
    "#print(ratiosList)\r\n",
    "linearGroups = list()\r\n",
    "indexLinearGroups = list()\r\n",
    "pos = 0\r\n",
    "while ratiosList:\r\n",
    "\t#print(ratiosList)\r\n",
    "\tcorrelated = list()\r\n",
    "\tgroup = list()\r\n",
    "\tj = ratiosList[0]\r\n",
    "\tcorrelated.append(j)\r\n",
    "\tgroup.append('R'+str(j))\r\n",
    "\tratiosList.remove(j)\r\n",
    "\r\n",
    "\tRn = getRatio(j, X)\r\n",
    "\tfor k in ratiosList:\r\n",
    "\t\tRm = getRatio(k, X)\r\n",
    "\t\tstat, p = pearsonr(Rn, Rm)\r\n",
    "\t\t#print('(R' + str(j+1) + ', R' + str(k+1) + ')','stat=%.3f, p=%.3f' % (stat, p))\r\n",
    "\t\tif p <= 0.05:\r\n",
    "\t\t\tcorrelated.append(k)\r\n",
    "\t\t\tgroup.append('R'+str(k))\r\n",
    "\tprint(\"Goupe \",pos)\r\n",
    "\tprint(\"\\t\"+ str(group))\r\n",
    "\tpos +=1\r\n",
    "\tindexLinearGroups.append(correlated.copy())\r\n",
    "\tlinearGroups.append(group)\r\n",
    "\tcorrelated.remove(j)\r\n",
    "\tfor el in correlated:\r\n",
    "\t\tratiosList.remove(el)"
   ],
   "outputs": [
    {
     "output_type": "stream",
     "name": "stdout",
     "text": [
      "Goupe  0\n",
      "\t['R0', 'R1', 'R9', 'R22']\n",
      "Goupe  1\n",
      "\t['R2']\n",
      "Goupe  2\n",
      "\t['R3']\n",
      "Goupe  3\n",
      "\t['R4']\n",
      "Goupe  4\n",
      "\t['R5', 'R13', 'R30']\n",
      "Goupe  5\n",
      "\t['R6', 'R7', 'R18']\n",
      "Goupe  6\n",
      "\t['R8']\n",
      "Goupe  7\n",
      "\t['R10', 'R27', 'R34']\n",
      "Goupe  8\n",
      "\t['R11', 'R20', 'R21', 'R23', 'R24', 'R25', 'R26', 'R28']\n",
      "Goupe  9\n",
      "\t['R12']\n",
      "Goupe  10\n",
      "\t['R14']\n",
      "Goupe  11\n",
      "\t['R15', 'R19', 'R29', 'R31', 'R32', 'R33']\n",
      "Goupe  12\n",
      "\t['R16', 'R17']\n"
     ]
    }
   ],
   "metadata": {}
  },
  {
   "cell_type": "code",
   "execution_count": 11,
   "source": [
    "X_noLC = np.zeros((n,len(indexLinearGroups)))\r\n",
    "for i in range(n):\r\n",
    "    j = 0\r\n",
    "    for grp in indexLinearGroups:\r\n",
    "        X_noLC[i][j] = X[i][grp[0]]\r\n",
    "        j+=1"
   ],
   "outputs": [],
   "metadata": {
    "tags": []
   }
  },
  {
   "cell_type": "code",
   "execution_count": 12,
   "source": [
    "# Example of the Analysis of Variance Test\r\n",
    "from scipy.stats import f_oneway\r\n",
    "from scipy.stats import ttest_ind\r\n",
    "def getRatioByClass(index, X_data, y):\r\n",
    "    n0 = len(X_data)\r\n",
    "    class0 = list()\r\n",
    "    class1 = list()\r\n",
    "    for i in range(n0):\r\n",
    "        if y[i] ==1 :\r\n",
    "            class1.append(X_data[i][index])\r\n",
    "        else:\r\n",
    "            class0.append(X_data[i][index])\r\n",
    "    return(class0,class1)\r\n",
    "\r\n",
    "indexSelect = list()\r\n",
    "for i in range(nRatios):\r\n",
    "    classes = getRatioByClass(i, X, y)\r\n",
    "    stat, p = f_oneway(classes[0], classes[1])\r\n",
    "    #stat1, p1 = ttest_ind(classes[0], classes[1])\r\n",
    "    print('R'+str(i+1)+' stat=%.3f, p=%.3f' % (stat, p))\r\n",
    "    #print('Student R'+str(i+1)+' stat=%.3f, p=%.3f' % (stat1, p1))\r\n",
    "    if p > 0.05:\r\n",
    "        print('\\t Selection : NON')\r\n",
    "    else:\r\n",
    "        indexSelect.append(i)\r\n",
    "        print('\\t Selection : OUI')\r\n",
    "print('Liste des ratios sélectionnés')\r\n",
    "print(indexSelect)"
   ],
   "outputs": [
    {
     "output_type": "stream",
     "name": "stdout",
     "text": [
      "R1 stat=0.454, p=0.500\n",
      "\t Selection : NON\n",
      "R2 stat=0.045, p=0.832\n",
      "\t Selection : NON\n",
      "R3 stat=0.124, p=0.725\n",
      "\t Selection : NON\n",
      "R4 stat=1.335, p=0.248\n",
      "\t Selection : NON\n",
      "R5 stat=6.089, p=0.014\n",
      "\t Selection : OUI\n",
      "R6 stat=4.118, p=0.042\n",
      "\t Selection : OUI\n",
      "R7 stat=0.111, p=0.739\n",
      "\t Selection : NON\n",
      "R8 stat=0.089, p=0.765\n",
      "\t Selection : NON\n",
      "R9 stat=0.052, p=0.820\n",
      "\t Selection : NON\n",
      "R10 stat=0.002, p=0.964\n",
      "\t Selection : NON\n",
      "R11 stat=161.130, p=0.000\n",
      "\t Selection : OUI\n",
      "R12 stat=793.276, p=0.000\n",
      "\t Selection : OUI\n",
      "R13 stat=0.386, p=0.534\n",
      "\t Selection : NON\n",
      "R14 stat=5042.765, p=0.000\n",
      "\t Selection : OUI\n",
      "R15 stat=2.994, p=0.084\n",
      "\t Selection : NON\n",
      "R16 stat=28.348, p=0.000\n",
      "\t Selection : OUI\n",
      "R17 stat=0.160, p=0.689\n",
      "\t Selection : NON\n",
      "R18 stat=0.981, p=0.322\n",
      "\t Selection : NON\n",
      "R19 stat=2.257, p=0.133\n",
      "\t Selection : NON\n",
      "R20 stat=38.516, p=0.000\n",
      "\t Selection : OUI\n",
      "R21 stat=98.922, p=0.000\n",
      "\t Selection : OUI\n",
      "R22 stat=2101.579, p=0.000\n",
      "\t Selection : OUI\n",
      "R23 stat=1201.827, p=0.000\n",
      "\t Selection : OUI\n",
      "R24 stat=838.575, p=0.000\n",
      "\t Selection : OUI\n",
      "R25 stat=1097.341, p=0.000\n",
      "\t Selection : OUI\n",
      "R26 stat=289.271, p=0.000\n",
      "\t Selection : OUI\n",
      "R27 stat=798.020, p=0.000\n",
      "\t Selection : OUI\n",
      "R28 stat=3.627, p=0.057\n",
      "\t Selection : NON\n",
      "R29 stat=105.176, p=0.000\n",
      "\t Selection : OUI\n",
      "R30 stat=1.588, p=0.208\n",
      "\t Selection : NON\n",
      "R31 stat=265.274, p=0.000\n",
      "\t Selection : OUI\n",
      "R32 stat=10.142, p=0.001\n",
      "\t Selection : OUI\n",
      "R33 stat=2.367, p=0.124\n",
      "\t Selection : NON\n",
      "R34 stat=9.907, p=0.002\n",
      "\t Selection : OUI\n",
      "R35 stat=16.549, p=0.000\n",
      "\t Selection : OUI\n",
      "Liste des ratios sélectionnés\n",
      "[4, 5, 10, 11, 13, 15, 19, 20, 21, 22, 23, 24, 25, 26, 28, 30, 31, 33, 34]\n"
     ]
    }
   ],
   "metadata": {}
  },
  {
   "cell_type": "code",
   "execution_count": 13,
   "source": [
    "X_select = np.zeros((n,len(indexSelect)))\r\n",
    "for i in range(n):\r\n",
    "    j = 0\r\n",
    "    for k in indexSelect:\r\n",
    "        X_select[i][j] = X[i][k]\r\n",
    "        j+=1"
   ],
   "outputs": [],
   "metadata": {}
  },
  {
   "cell_type": "markdown",
   "source": [
    "# II) CONSTRUCTION DU MODEL"
   ],
   "metadata": {}
  },
  {
   "cell_type": "code",
   "execution_count": 14,
   "source": [
    "model = LogisticRegression(solver='newton-cg', verbose=1, max_iter = 1000, C = 1).fit(X_select,y)"
   ],
   "outputs": [
    {
     "output_type": "stream",
     "name": "stderr",
     "text": [
      "[Parallel(n_jobs=1)]: Using backend SequentialBackend with 1 concurrent workers.\n",
      "[Parallel(n_jobs=1)]: Done   1 out of   1 | elapsed:    0.2s finished\n"
     ]
    }
   ],
   "metadata": {}
  },
  {
   "cell_type": "code",
   "execution_count": 15,
   "source": [
    "model.classes_"
   ],
   "outputs": [
    {
     "output_type": "execute_result",
     "data": {
      "text/plain": [
       "array([0, 1])"
      ]
     },
     "metadata": {},
     "execution_count": 15
    }
   ],
   "metadata": {}
  },
  {
   "cell_type": "code",
   "execution_count": 16,
   "source": [
    "model.intercept_"
   ],
   "outputs": [
    {
     "output_type": "execute_result",
     "data": {
      "text/plain": [
       "array([-2.41929987])"
      ]
     },
     "metadata": {},
     "execution_count": 16
    }
   ],
   "metadata": {}
  },
  {
   "cell_type": "code",
   "execution_count": 17,
   "source": [
    "model.coef_"
   ],
   "outputs": [
    {
     "output_type": "execute_result",
     "data": {
      "text/plain": [
       "array([[-7.65511431e-02,  4.17209831e-02, -5.79088870e+00,\n",
       "        -3.64829935e-01, -8.78166614e+00, -1.60388680e-01,\n",
       "        -2.42581278e+00, -3.27135934e+00,  1.23874657e+01,\n",
       "         1.80185184e-01,  2.10625576e+00,  5.54401132e-01,\n",
       "        -3.02507486e-02,  5.17579598e-01, -1.17015966e+00,\n",
       "         4.45610841e+00,  9.10612911e-03, -1.84856800e-03,\n",
       "        -1.41908829e+00]])"
      ]
     },
     "metadata": {},
     "execution_count": 17
    }
   ],
   "metadata": {}
  },
  {
   "cell_type": "code",
   "execution_count": 18,
   "source": [
    "confusion_matrix(y, model.predict(X_select))"
   ],
   "outputs": [
    {
     "output_type": "execute_result",
     "data": {
      "text/plain": [
       "array([[1993,  304],\n",
       "       [ 338, 2364]], dtype=int64)"
      ]
     },
     "metadata": {},
     "execution_count": 18
    }
   ],
   "metadata": {}
  },
  {
   "cell_type": "code",
   "execution_count": 19,
   "source": [
    "cm = confusion_matrix(y, model.predict(X_select))\r\n",
    "\r\n",
    "fig, ax = plt.subplots(figsize=(4, 4))\r\n",
    "ax.imshow(cm)\r\n",
    "ax.grid(False)\r\n",
    "ax.xaxis.set(ticks=(0, 1), ticklabels=('Predicted 0s', 'Predicted 1s'))\r\n",
    "ax.yaxis.set(ticks=(0, 1), ticklabels=('Actual 0s', 'Actual 1s'))\r\n",
    "ax.set_ylim(1.5, -0.5)\r\n",
    "for i in range(2):\r\n",
    "    for j in range(2):\r\n",
    "        ax.text(j, i, cm[i, j], ha='center', va='center', color='red')\r\n",
    "plt.show()"
   ],
   "outputs": [
    {
     "output_type": "display_data",
     "data": {
      "text/plain": [
       "<Figure size 288x288 with 1 Axes>"
      ],
      "image/svg+xml": "<?xml version=\"1.0\" encoding=\"utf-8\" standalone=\"no\"?>\r\n<!DOCTYPE svg PUBLIC \"-//W3C//DTD SVG 1.1//EN\"\r\n  \"http://www.w3.org/Graphics/SVG/1.1/DTD/svg11.dtd\">\r\n<!-- Created with matplotlib (https://matplotlib.org/) -->\r\n<svg height=\"248.518125pt\" version=\"1.1\" viewBox=\"0 0 284.918125 248.518125\" width=\"284.918125pt\" xmlns=\"http://www.w3.org/2000/svg\" xmlns:xlink=\"http://www.w3.org/1999/xlink\">\r\n <metadata>\r\n  <rdf:RDF xmlns:cc=\"http://creativecommons.org/ns#\" xmlns:dc=\"http://purl.org/dc/elements/1.1/\" xmlns:rdf=\"http://www.w3.org/1999/02/22-rdf-syntax-ns#\">\r\n   <cc:Work>\r\n    <dc:type rdf:resource=\"http://purl.org/dc/dcmitype/StillImage\"/>\r\n    <dc:date>2021-08-19T06:01:44.767669</dc:date>\r\n    <dc:format>image/svg+xml</dc:format>\r\n    <dc:creator>\r\n     <cc:Agent>\r\n      <dc:title>Matplotlib v3.3.3, https://matplotlib.org/</dc:title>\r\n     </cc:Agent>\r\n    </dc:creator>\r\n   </cc:Work>\r\n  </rdf:RDF>\r\n </metadata>\r\n <defs>\r\n  <style type=\"text/css\">*{stroke-linecap:butt;stroke-linejoin:round;}</style>\r\n </defs>\r\n <g id=\"figure_1\">\r\n  <g id=\"patch_1\">\r\n   <path d=\"M 0 248.518125 \r\nL 284.918125 248.518125 \r\nL 284.918125 0 \r\nL 0 0 \r\nz\r\n\" style=\"fill:none;\"/>\r\n  </g>\r\n  <g id=\"axes_1\">\r\n   <g id=\"patch_2\">\r\n    <path d=\"M 60.278125 224.64 \r\nL 277.718125 224.64 \r\nL 277.718125 7.2 \r\nL 60.278125 7.2 \r\nz\r\n\" style=\"fill:#ffffff;\"/>\r\n   </g>\r\n   <g clip-path=\"url(#p5e68543757)\">\r\n    <image height=\"218\" id=\"image08640f7e44\" transform=\"scale(1 -1)translate(0 -218)\" width=\"218\" x=\"60.278125\" xlink:href=\"data:image/png;base64,\r\niVBORw0KGgoAAAANSUhEUgAAANoAAADaCAYAAADAHVzbAAACm0lEQVR4nO3VQQ0CQQAEQSAXRKACCzwueEDpabgHHlCABNCwn94QqhTMpzPH9fz4HPgp22ufPYFBp9kD4B8IDQJCg4DQICA0CAgNAkKDgNAgIDQICA0CQoOA0CAgNAgIDQJCg4DQICA0CAgNAkKDgNAgIDQICA0CQoOA0CAgNAgIDQJCg4DQICA0CAgNAkKDgNAgIDQICA0CQoOA0CAgNAgIDQJCg4DQICA0CAgNAkKDgNAgIDQICA0CQoOA0CAgNAgIDQJCg4DQICA0CAgNAkKDgNAgIDQICA0CQoOA0CAgNAgIDQJCg4DQICA0CAgNAkKDgNAgIDQICA0CQoOA0CAgNAgIDQJCg4DQICA0CAgNAkKDgNAgIDQICA0CQoOA0CAgNAgIDQJCg4DQICA0CAgNAkKDgNAgIDQICA0CQoOA0CAgNAgIDQJCg4DQICA0CAgNAkKDgNAgIDQICA0CQoOA0CCw3J7v2RsYdL9cZ09gkEeDgNAgIDQICA0CQoOA0CAgNAgIDQJCg4DQICA0CAgNAkKDgNAgIDQICA0CQoOA0CAgNAgIDQJCg4DQICA0CAgNAkKDgNAgIDQICA0CQoOA0CAgNAgIDQJCg4DQICA0CAgNAkKDgNAgIDQICA0CQoOA0CAgNAgIDQJCg4DQICA0CAgNAkKDgNAgIDQICA0CQoOA0CAgNAgIDQJCg4DQICA0CAgNAkKDgNAgIDQICA0CQoOA0CAgNAgIDQJCg4DQICA0CAgNAkKDgNAgIDQICA0CQoOA0CAgNAgIDQJCg4DQICA0CAgNAkKDgNAgIDQICA0CQoOA0CAgNAgIDQJCg4DQICA0CAgNAkKDgNAgIDQICA0CQoOA0CAgNAgIDQJCg4DQICA0CAgNAl/b7ghMBGf/DQAAAABJRU5ErkJggg==\" y=\"-6.64\"/>\r\n   </g>\r\n   <g id=\"matplotlib.axis_1\">\r\n    <g id=\"xtick_1\">\r\n     <g id=\"line2d_1\">\r\n      <defs>\r\n       <path d=\"M 0 0 \r\nL 0 3.5 \r\n\" id=\"mae162a3d45\" style=\"stroke:#000000;stroke-width:0.8;\"/>\r\n      </defs>\r\n      <g>\r\n       <use style=\"stroke:#000000;stroke-width:0.8;\" x=\"114.638125\" xlink:href=\"#mae162a3d45\" y=\"224.64\"/>\r\n      </g>\r\n     </g>\r\n     <g id=\"text_1\">\r\n      <!-- Predicted 0s -->\r\n      <g transform=\"translate(83.792812 239.238437)scale(0.1 -0.1)\">\r\n       <defs>\r\n        <path d=\"M 19.671875 64.796875 \r\nL 19.671875 37.40625 \r\nL 32.078125 37.40625 \r\nQ 38.96875 37.40625 42.71875 40.96875 \r\nQ 46.484375 44.53125 46.484375 51.125 \r\nQ 46.484375 57.671875 42.71875 61.234375 \r\nQ 38.96875 64.796875 32.078125 64.796875 \r\nz\r\nM 9.8125 72.90625 \r\nL 32.078125 72.90625 \r\nQ 44.34375 72.90625 50.609375 67.359375 \r\nQ 56.890625 61.8125 56.890625 51.125 \r\nQ 56.890625 40.328125 50.609375 34.8125 \r\nQ 44.34375 29.296875 32.078125 29.296875 \r\nL 19.671875 29.296875 \r\nL 19.671875 0 \r\nL 9.8125 0 \r\nz\r\n\" id=\"DejaVuSans-80\"/>\r\n        <path d=\"M 41.109375 46.296875 \r\nQ 39.59375 47.171875 37.8125 47.578125 \r\nQ 36.03125 48 33.890625 48 \r\nQ 26.265625 48 22.1875 43.046875 \r\nQ 18.109375 38.09375 18.109375 28.8125 \r\nL 18.109375 0 \r\nL 9.078125 0 \r\nL 9.078125 54.6875 \r\nL 18.109375 54.6875 \r\nL 18.109375 46.1875 \r\nQ 20.953125 51.171875 25.484375 53.578125 \r\nQ 30.03125 56 36.53125 56 \r\nQ 37.453125 56 38.578125 55.875 \r\nQ 39.703125 55.765625 41.0625 55.515625 \r\nz\r\n\" id=\"DejaVuSans-114\"/>\r\n        <path d=\"M 56.203125 29.59375 \r\nL 56.203125 25.203125 \r\nL 14.890625 25.203125 \r\nQ 15.484375 15.921875 20.484375 11.0625 \r\nQ 25.484375 6.203125 34.421875 6.203125 \r\nQ 39.59375 6.203125 44.453125 7.46875 \r\nQ 49.3125 8.734375 54.109375 11.28125 \r\nL 54.109375 2.78125 \r\nQ 49.265625 0.734375 44.1875 -0.34375 \r\nQ 39.109375 -1.421875 33.890625 -1.421875 \r\nQ 20.796875 -1.421875 13.15625 6.1875 \r\nQ 5.515625 13.8125 5.515625 26.8125 \r\nQ 5.515625 40.234375 12.765625 48.109375 \r\nQ 20.015625 56 32.328125 56 \r\nQ 43.359375 56 49.78125 48.890625 \r\nQ 56.203125 41.796875 56.203125 29.59375 \r\nz\r\nM 47.21875 32.234375 \r\nQ 47.125 39.59375 43.09375 43.984375 \r\nQ 39.0625 48.390625 32.421875 48.390625 \r\nQ 24.90625 48.390625 20.390625 44.140625 \r\nQ 15.875 39.890625 15.1875 32.171875 \r\nz\r\n\" id=\"DejaVuSans-101\"/>\r\n        <path d=\"M 45.40625 46.390625 \r\nL 45.40625 75.984375 \r\nL 54.390625 75.984375 \r\nL 54.390625 0 \r\nL 45.40625 0 \r\nL 45.40625 8.203125 \r\nQ 42.578125 3.328125 38.25 0.953125 \r\nQ 33.9375 -1.421875 27.875 -1.421875 \r\nQ 17.96875 -1.421875 11.734375 6.484375 \r\nQ 5.515625 14.40625 5.515625 27.296875 \r\nQ 5.515625 40.1875 11.734375 48.09375 \r\nQ 17.96875 56 27.875 56 \r\nQ 33.9375 56 38.25 53.625 \r\nQ 42.578125 51.265625 45.40625 46.390625 \r\nz\r\nM 14.796875 27.296875 \r\nQ 14.796875 17.390625 18.875 11.75 \r\nQ 22.953125 6.109375 30.078125 6.109375 \r\nQ 37.203125 6.109375 41.296875 11.75 \r\nQ 45.40625 17.390625 45.40625 27.296875 \r\nQ 45.40625 37.203125 41.296875 42.84375 \r\nQ 37.203125 48.484375 30.078125 48.484375 \r\nQ 22.953125 48.484375 18.875 42.84375 \r\nQ 14.796875 37.203125 14.796875 27.296875 \r\nz\r\n\" id=\"DejaVuSans-100\"/>\r\n        <path d=\"M 9.421875 54.6875 \r\nL 18.40625 54.6875 \r\nL 18.40625 0 \r\nL 9.421875 0 \r\nz\r\nM 9.421875 75.984375 \r\nL 18.40625 75.984375 \r\nL 18.40625 64.59375 \r\nL 9.421875 64.59375 \r\nz\r\n\" id=\"DejaVuSans-105\"/>\r\n        <path d=\"M 48.78125 52.59375 \r\nL 48.78125 44.1875 \r\nQ 44.96875 46.296875 41.140625 47.34375 \r\nQ 37.3125 48.390625 33.40625 48.390625 \r\nQ 24.65625 48.390625 19.8125 42.84375 \r\nQ 14.984375 37.3125 14.984375 27.296875 \r\nQ 14.984375 17.28125 19.8125 11.734375 \r\nQ 24.65625 6.203125 33.40625 6.203125 \r\nQ 37.3125 6.203125 41.140625 7.25 \r\nQ 44.96875 8.296875 48.78125 10.40625 \r\nL 48.78125 2.09375 \r\nQ 45.015625 0.34375 40.984375 -0.53125 \r\nQ 36.96875 -1.421875 32.421875 -1.421875 \r\nQ 20.0625 -1.421875 12.78125 6.34375 \r\nQ 5.515625 14.109375 5.515625 27.296875 \r\nQ 5.515625 40.671875 12.859375 48.328125 \r\nQ 20.21875 56 33.015625 56 \r\nQ 37.15625 56 41.109375 55.140625 \r\nQ 45.0625 54.296875 48.78125 52.59375 \r\nz\r\n\" id=\"DejaVuSans-99\"/>\r\n        <path d=\"M 18.3125 70.21875 \r\nL 18.3125 54.6875 \r\nL 36.8125 54.6875 \r\nL 36.8125 47.703125 \r\nL 18.3125 47.703125 \r\nL 18.3125 18.015625 \r\nQ 18.3125 11.328125 20.140625 9.421875 \r\nQ 21.96875 7.515625 27.59375 7.515625 \r\nL 36.8125 7.515625 \r\nL 36.8125 0 \r\nL 27.59375 0 \r\nQ 17.1875 0 13.234375 3.875 \r\nQ 9.28125 7.765625 9.28125 18.015625 \r\nL 9.28125 47.703125 \r\nL 2.6875 47.703125 \r\nL 2.6875 54.6875 \r\nL 9.28125 54.6875 \r\nL 9.28125 70.21875 \r\nz\r\n\" id=\"DejaVuSans-116\"/>\r\n        <path id=\"DejaVuSans-32\"/>\r\n        <path d=\"M 31.78125 66.40625 \r\nQ 24.171875 66.40625 20.328125 58.90625 \r\nQ 16.5 51.421875 16.5 36.375 \r\nQ 16.5 21.390625 20.328125 13.890625 \r\nQ 24.171875 6.390625 31.78125 6.390625 \r\nQ 39.453125 6.390625 43.28125 13.890625 \r\nQ 47.125 21.390625 47.125 36.375 \r\nQ 47.125 51.421875 43.28125 58.90625 \r\nQ 39.453125 66.40625 31.78125 66.40625 \r\nz\r\nM 31.78125 74.21875 \r\nQ 44.046875 74.21875 50.515625 64.515625 \r\nQ 56.984375 54.828125 56.984375 36.375 \r\nQ 56.984375 17.96875 50.515625 8.265625 \r\nQ 44.046875 -1.421875 31.78125 -1.421875 \r\nQ 19.53125 -1.421875 13.0625 8.265625 \r\nQ 6.59375 17.96875 6.59375 36.375 \r\nQ 6.59375 54.828125 13.0625 64.515625 \r\nQ 19.53125 74.21875 31.78125 74.21875 \r\nz\r\n\" id=\"DejaVuSans-48\"/>\r\n        <path d=\"M 44.28125 53.078125 \r\nL 44.28125 44.578125 \r\nQ 40.484375 46.53125 36.375 47.5 \r\nQ 32.28125 48.484375 27.875 48.484375 \r\nQ 21.1875 48.484375 17.84375 46.4375 \r\nQ 14.5 44.390625 14.5 40.28125 \r\nQ 14.5 37.15625 16.890625 35.375 \r\nQ 19.28125 33.59375 26.515625 31.984375 \r\nL 29.59375 31.296875 \r\nQ 39.15625 29.25 43.1875 25.515625 \r\nQ 47.21875 21.78125 47.21875 15.09375 \r\nQ 47.21875 7.46875 41.1875 3.015625 \r\nQ 35.15625 -1.421875 24.609375 -1.421875 \r\nQ 20.21875 -1.421875 15.453125 -0.5625 \r\nQ 10.6875 0.296875 5.421875 2 \r\nL 5.421875 11.28125 \r\nQ 10.40625 8.6875 15.234375 7.390625 \r\nQ 20.0625 6.109375 24.8125 6.109375 \r\nQ 31.15625 6.109375 34.5625 8.28125 \r\nQ 37.984375 10.453125 37.984375 14.40625 \r\nQ 37.984375 18.0625 35.515625 20.015625 \r\nQ 33.0625 21.96875 24.703125 23.78125 \r\nL 21.578125 24.515625 \r\nQ 13.234375 26.265625 9.515625 29.90625 \r\nQ 5.8125 33.546875 5.8125 39.890625 \r\nQ 5.8125 47.609375 11.28125 51.796875 \r\nQ 16.75 56 26.8125 56 \r\nQ 31.78125 56 36.171875 55.265625 \r\nQ 40.578125 54.546875 44.28125 53.078125 \r\nz\r\n\" id=\"DejaVuSans-115\"/>\r\n       </defs>\r\n       <use xlink:href=\"#DejaVuSans-80\"/>\r\n       <use x=\"58.552734\" xlink:href=\"#DejaVuSans-114\"/>\r\n       <use x=\"97.416016\" xlink:href=\"#DejaVuSans-101\"/>\r\n       <use x=\"158.939453\" xlink:href=\"#DejaVuSans-100\"/>\r\n       <use x=\"222.416016\" xlink:href=\"#DejaVuSans-105\"/>\r\n       <use x=\"250.199219\" xlink:href=\"#DejaVuSans-99\"/>\r\n       <use x=\"305.179688\" xlink:href=\"#DejaVuSans-116\"/>\r\n       <use x=\"344.388672\" xlink:href=\"#DejaVuSans-101\"/>\r\n       <use x=\"405.912109\" xlink:href=\"#DejaVuSans-100\"/>\r\n       <use x=\"469.388672\" xlink:href=\"#DejaVuSans-32\"/>\r\n       <use x=\"501.175781\" xlink:href=\"#DejaVuSans-48\"/>\r\n       <use x=\"564.798828\" xlink:href=\"#DejaVuSans-115\"/>\r\n      </g>\r\n     </g>\r\n    </g>\r\n    <g id=\"xtick_2\">\r\n     <g id=\"line2d_2\">\r\n      <g>\r\n       <use style=\"stroke:#000000;stroke-width:0.8;\" x=\"223.358125\" xlink:href=\"#mae162a3d45\" y=\"224.64\"/>\r\n      </g>\r\n     </g>\r\n     <g id=\"text_2\">\r\n      <!-- Predicted 1s -->\r\n      <g transform=\"translate(192.512812 239.238437)scale(0.1 -0.1)\">\r\n       <defs>\r\n        <path d=\"M 12.40625 8.296875 \r\nL 28.515625 8.296875 \r\nL 28.515625 63.921875 \r\nL 10.984375 60.40625 \r\nL 10.984375 69.390625 \r\nL 28.421875 72.90625 \r\nL 38.28125 72.90625 \r\nL 38.28125 8.296875 \r\nL 54.390625 8.296875 \r\nL 54.390625 0 \r\nL 12.40625 0 \r\nz\r\n\" id=\"DejaVuSans-49\"/>\r\n       </defs>\r\n       <use xlink:href=\"#DejaVuSans-80\"/>\r\n       <use x=\"58.552734\" xlink:href=\"#DejaVuSans-114\"/>\r\n       <use x=\"97.416016\" xlink:href=\"#DejaVuSans-101\"/>\r\n       <use x=\"158.939453\" xlink:href=\"#DejaVuSans-100\"/>\r\n       <use x=\"222.416016\" xlink:href=\"#DejaVuSans-105\"/>\r\n       <use x=\"250.199219\" xlink:href=\"#DejaVuSans-99\"/>\r\n       <use x=\"305.179688\" xlink:href=\"#DejaVuSans-116\"/>\r\n       <use x=\"344.388672\" xlink:href=\"#DejaVuSans-101\"/>\r\n       <use x=\"405.912109\" xlink:href=\"#DejaVuSans-100\"/>\r\n       <use x=\"469.388672\" xlink:href=\"#DejaVuSans-32\"/>\r\n       <use x=\"501.175781\" xlink:href=\"#DejaVuSans-49\"/>\r\n       <use x=\"564.798828\" xlink:href=\"#DejaVuSans-115\"/>\r\n      </g>\r\n     </g>\r\n    </g>\r\n   </g>\r\n   <g id=\"matplotlib.axis_2\">\r\n    <g id=\"ytick_1\">\r\n     <g id=\"line2d_3\">\r\n      <defs>\r\n       <path d=\"M 0 0 \r\nL -3.5 0 \r\n\" id=\"mfbe250534a\" style=\"stroke:#000000;stroke-width:0.8;\"/>\r\n      </defs>\r\n      <g>\r\n       <use style=\"stroke:#000000;stroke-width:0.8;\" x=\"60.278125\" xlink:href=\"#mfbe250534a\" y=\"61.56\"/>\r\n      </g>\r\n     </g>\r\n     <g id=\"text_3\">\r\n      <!-- Actual 0s -->\r\n      <g transform=\"translate(7.2 65.359219)scale(0.1 -0.1)\">\r\n       <defs>\r\n        <path d=\"M 34.1875 63.1875 \r\nL 20.796875 26.90625 \r\nL 47.609375 26.90625 \r\nz\r\nM 28.609375 72.90625 \r\nL 39.796875 72.90625 \r\nL 67.578125 0 \r\nL 57.328125 0 \r\nL 50.6875 18.703125 \r\nL 17.828125 18.703125 \r\nL 11.1875 0 \r\nL 0.78125 0 \r\nz\r\n\" id=\"DejaVuSans-65\"/>\r\n        <path d=\"M 8.5 21.578125 \r\nL 8.5 54.6875 \r\nL 17.484375 54.6875 \r\nL 17.484375 21.921875 \r\nQ 17.484375 14.15625 20.5 10.265625 \r\nQ 23.53125 6.390625 29.59375 6.390625 \r\nQ 36.859375 6.390625 41.078125 11.03125 \r\nQ 45.3125 15.671875 45.3125 23.6875 \r\nL 45.3125 54.6875 \r\nL 54.296875 54.6875 \r\nL 54.296875 0 \r\nL 45.3125 0 \r\nL 45.3125 8.40625 \r\nQ 42.046875 3.421875 37.71875 1 \r\nQ 33.40625 -1.421875 27.6875 -1.421875 \r\nQ 18.265625 -1.421875 13.375 4.4375 \r\nQ 8.5 10.296875 8.5 21.578125 \r\nz\r\nM 31.109375 56 \r\nz\r\n\" id=\"DejaVuSans-117\"/>\r\n        <path d=\"M 34.28125 27.484375 \r\nQ 23.390625 27.484375 19.1875 25 \r\nQ 14.984375 22.515625 14.984375 16.5 \r\nQ 14.984375 11.71875 18.140625 8.90625 \r\nQ 21.296875 6.109375 26.703125 6.109375 \r\nQ 34.1875 6.109375 38.703125 11.40625 \r\nQ 43.21875 16.703125 43.21875 25.484375 \r\nL 43.21875 27.484375 \r\nz\r\nM 52.203125 31.203125 \r\nL 52.203125 0 \r\nL 43.21875 0 \r\nL 43.21875 8.296875 \r\nQ 40.140625 3.328125 35.546875 0.953125 \r\nQ 30.953125 -1.421875 24.3125 -1.421875 \r\nQ 15.921875 -1.421875 10.953125 3.296875 \r\nQ 6 8.015625 6 15.921875 \r\nQ 6 25.140625 12.171875 29.828125 \r\nQ 18.359375 34.515625 30.609375 34.515625 \r\nL 43.21875 34.515625 \r\nL 43.21875 35.40625 \r\nQ 43.21875 41.609375 39.140625 45 \r\nQ 35.0625 48.390625 27.6875 48.390625 \r\nQ 23 48.390625 18.546875 47.265625 \r\nQ 14.109375 46.140625 10.015625 43.890625 \r\nL 10.015625 52.203125 \r\nQ 14.9375 54.109375 19.578125 55.046875 \r\nQ 24.21875 56 28.609375 56 \r\nQ 40.484375 56 46.34375 49.84375 \r\nQ 52.203125 43.703125 52.203125 31.203125 \r\nz\r\n\" id=\"DejaVuSans-97\"/>\r\n        <path d=\"M 9.421875 75.984375 \r\nL 18.40625 75.984375 \r\nL 18.40625 0 \r\nL 9.421875 0 \r\nz\r\n\" id=\"DejaVuSans-108\"/>\r\n       </defs>\r\n       <use xlink:href=\"#DejaVuSans-65\"/>\r\n       <use x=\"66.658203\" xlink:href=\"#DejaVuSans-99\"/>\r\n       <use x=\"121.638672\" xlink:href=\"#DejaVuSans-116\"/>\r\n       <use x=\"160.847656\" xlink:href=\"#DejaVuSans-117\"/>\r\n       <use x=\"224.226562\" xlink:href=\"#DejaVuSans-97\"/>\r\n       <use x=\"285.505859\" xlink:href=\"#DejaVuSans-108\"/>\r\n       <use x=\"313.289062\" xlink:href=\"#DejaVuSans-32\"/>\r\n       <use x=\"345.076172\" xlink:href=\"#DejaVuSans-48\"/>\r\n       <use x=\"408.699219\" xlink:href=\"#DejaVuSans-115\"/>\r\n      </g>\r\n     </g>\r\n    </g>\r\n    <g id=\"ytick_2\">\r\n     <g id=\"line2d_4\">\r\n      <g>\r\n       <use style=\"stroke:#000000;stroke-width:0.8;\" x=\"60.278125\" xlink:href=\"#mfbe250534a\" y=\"170.28\"/>\r\n      </g>\r\n     </g>\r\n     <g id=\"text_4\">\r\n      <!-- Actual 1s -->\r\n      <g transform=\"translate(7.2 174.079219)scale(0.1 -0.1)\">\r\n       <use xlink:href=\"#DejaVuSans-65\"/>\r\n       <use x=\"66.658203\" xlink:href=\"#DejaVuSans-99\"/>\r\n       <use x=\"121.638672\" xlink:href=\"#DejaVuSans-116\"/>\r\n       <use x=\"160.847656\" xlink:href=\"#DejaVuSans-117\"/>\r\n       <use x=\"224.226562\" xlink:href=\"#DejaVuSans-97\"/>\r\n       <use x=\"285.505859\" xlink:href=\"#DejaVuSans-108\"/>\r\n       <use x=\"313.289062\" xlink:href=\"#DejaVuSans-32\"/>\r\n       <use x=\"345.076172\" xlink:href=\"#DejaVuSans-49\"/>\r\n       <use x=\"408.699219\" xlink:href=\"#DejaVuSans-115\"/>\r\n      </g>\r\n     </g>\r\n    </g>\r\n   </g>\r\n   <g id=\"patch_3\">\r\n    <path d=\"M 60.278125 224.64 \r\nL 60.278125 7.2 \r\n\" style=\"fill:none;stroke:#000000;stroke-linecap:square;stroke-linejoin:miter;stroke-width:0.8;\"/>\r\n   </g>\r\n   <g id=\"patch_4\">\r\n    <path d=\"M 277.718125 224.64 \r\nL 277.718125 7.2 \r\n\" style=\"fill:none;stroke:#000000;stroke-linecap:square;stroke-linejoin:miter;stroke-width:0.8;\"/>\r\n   </g>\r\n   <g id=\"patch_5\">\r\n    <path d=\"M 60.278125 224.64 \r\nL 277.718125 224.64 \r\n\" style=\"fill:none;stroke:#000000;stroke-linecap:square;stroke-linejoin:miter;stroke-width:0.8;\"/>\r\n   </g>\r\n   <g id=\"patch_6\">\r\n    <path d=\"M 60.278125 7.2 \r\nL 277.718125 7.2 \r\n\" style=\"fill:none;stroke:#000000;stroke-linecap:square;stroke-linejoin:miter;stroke-width:0.8;\"/>\r\n   </g>\r\n   <g id=\"text_5\">\r\n    <!-- 1993 -->\r\n    <g style=\"fill:#ff0000;\" transform=\"translate(101.913125 64.319375)scale(0.1 -0.1)\">\r\n     <defs>\r\n      <path d=\"M 10.984375 1.515625 \r\nL 10.984375 10.5 \r\nQ 14.703125 8.734375 18.5 7.8125 \r\nQ 22.3125 6.890625 25.984375 6.890625 \r\nQ 35.75 6.890625 40.890625 13.453125 \r\nQ 46.046875 20.015625 46.78125 33.40625 \r\nQ 43.953125 29.203125 39.59375 26.953125 \r\nQ 35.25 24.703125 29.984375 24.703125 \r\nQ 19.046875 24.703125 12.671875 31.3125 \r\nQ 6.296875 37.9375 6.296875 49.421875 \r\nQ 6.296875 60.640625 12.9375 67.421875 \r\nQ 19.578125 74.21875 30.609375 74.21875 \r\nQ 43.265625 74.21875 49.921875 64.515625 \r\nQ 56.59375 54.828125 56.59375 36.375 \r\nQ 56.59375 19.140625 48.40625 8.859375 \r\nQ 40.234375 -1.421875 26.421875 -1.421875 \r\nQ 22.703125 -1.421875 18.890625 -0.6875 \r\nQ 15.09375 0.046875 10.984375 1.515625 \r\nz\r\nM 30.609375 32.421875 \r\nQ 37.25 32.421875 41.125 36.953125 \r\nQ 45.015625 41.5 45.015625 49.421875 \r\nQ 45.015625 57.28125 41.125 61.84375 \r\nQ 37.25 66.40625 30.609375 66.40625 \r\nQ 23.96875 66.40625 20.09375 61.84375 \r\nQ 16.21875 57.28125 16.21875 49.421875 \r\nQ 16.21875 41.5 20.09375 36.953125 \r\nQ 23.96875 32.421875 30.609375 32.421875 \r\nz\r\n\" id=\"DejaVuSans-57\"/>\r\n      <path d=\"M 40.578125 39.3125 \r\nQ 47.65625 37.796875 51.625 33 \r\nQ 55.609375 28.21875 55.609375 21.1875 \r\nQ 55.609375 10.40625 48.1875 4.484375 \r\nQ 40.765625 -1.421875 27.09375 -1.421875 \r\nQ 22.515625 -1.421875 17.65625 -0.515625 \r\nQ 12.796875 0.390625 7.625 2.203125 \r\nL 7.625 11.71875 \r\nQ 11.71875 9.328125 16.59375 8.109375 \r\nQ 21.484375 6.890625 26.8125 6.890625 \r\nQ 36.078125 6.890625 40.9375 10.546875 \r\nQ 45.796875 14.203125 45.796875 21.1875 \r\nQ 45.796875 27.640625 41.28125 31.265625 \r\nQ 36.765625 34.90625 28.71875 34.90625 \r\nL 20.21875 34.90625 \r\nL 20.21875 43.015625 \r\nL 29.109375 43.015625 \r\nQ 36.375 43.015625 40.234375 45.921875 \r\nQ 44.09375 48.828125 44.09375 54.296875 \r\nQ 44.09375 59.90625 40.109375 62.90625 \r\nQ 36.140625 65.921875 28.71875 65.921875 \r\nQ 24.65625 65.921875 20.015625 65.03125 \r\nQ 15.375 64.15625 9.8125 62.3125 \r\nL 9.8125 71.09375 \r\nQ 15.4375 72.65625 20.34375 73.4375 \r\nQ 25.25 74.21875 29.59375 74.21875 \r\nQ 40.828125 74.21875 47.359375 69.109375 \r\nQ 53.90625 64.015625 53.90625 55.328125 \r\nQ 53.90625 49.265625 50.4375 45.09375 \r\nQ 46.96875 40.921875 40.578125 39.3125 \r\nz\r\n\" id=\"DejaVuSans-51\"/>\r\n     </defs>\r\n     <use xlink:href=\"#DejaVuSans-49\"/>\r\n     <use x=\"63.623047\" xlink:href=\"#DejaVuSans-57\"/>\r\n     <use x=\"127.246094\" xlink:href=\"#DejaVuSans-57\"/>\r\n     <use x=\"190.869141\" xlink:href=\"#DejaVuSans-51\"/>\r\n    </g>\r\n   </g>\r\n   <g id=\"text_6\">\r\n    <!-- 304 -->\r\n    <g style=\"fill:#ff0000;\" transform=\"translate(213.814375 64.319375)scale(0.1 -0.1)\">\r\n     <defs>\r\n      <path d=\"M 37.796875 64.3125 \r\nL 12.890625 25.390625 \r\nL 37.796875 25.390625 \r\nz\r\nM 35.203125 72.90625 \r\nL 47.609375 72.90625 \r\nL 47.609375 25.390625 \r\nL 58.015625 25.390625 \r\nL 58.015625 17.1875 \r\nL 47.609375 17.1875 \r\nL 47.609375 0 \r\nL 37.796875 0 \r\nL 37.796875 17.1875 \r\nL 4.890625 17.1875 \r\nL 4.890625 26.703125 \r\nz\r\n\" id=\"DejaVuSans-52\"/>\r\n     </defs>\r\n     <use xlink:href=\"#DejaVuSans-51\"/>\r\n     <use x=\"63.623047\" xlink:href=\"#DejaVuSans-48\"/>\r\n     <use x=\"127.246094\" xlink:href=\"#DejaVuSans-52\"/>\r\n    </g>\r\n   </g>\r\n   <g id=\"text_7\">\r\n    <!-- 338 -->\r\n    <g style=\"fill:#ff0000;\" transform=\"translate(105.094375 173.039375)scale(0.1 -0.1)\">\r\n     <defs>\r\n      <path d=\"M 31.78125 34.625 \r\nQ 24.75 34.625 20.71875 30.859375 \r\nQ 16.703125 27.09375 16.703125 20.515625 \r\nQ 16.703125 13.921875 20.71875 10.15625 \r\nQ 24.75 6.390625 31.78125 6.390625 \r\nQ 38.8125 6.390625 42.859375 10.171875 \r\nQ 46.921875 13.96875 46.921875 20.515625 \r\nQ 46.921875 27.09375 42.890625 30.859375 \r\nQ 38.875 34.625 31.78125 34.625 \r\nz\r\nM 21.921875 38.8125 \r\nQ 15.578125 40.375 12.03125 44.71875 \r\nQ 8.5 49.078125 8.5 55.328125 \r\nQ 8.5 64.0625 14.71875 69.140625 \r\nQ 20.953125 74.21875 31.78125 74.21875 \r\nQ 42.671875 74.21875 48.875 69.140625 \r\nQ 55.078125 64.0625 55.078125 55.328125 \r\nQ 55.078125 49.078125 51.53125 44.71875 \r\nQ 48 40.375 41.703125 38.8125 \r\nQ 48.828125 37.15625 52.796875 32.3125 \r\nQ 56.78125 27.484375 56.78125 20.515625 \r\nQ 56.78125 9.90625 50.3125 4.234375 \r\nQ 43.84375 -1.421875 31.78125 -1.421875 \r\nQ 19.734375 -1.421875 13.25 4.234375 \r\nQ 6.78125 9.90625 6.78125 20.515625 \r\nQ 6.78125 27.484375 10.78125 32.3125 \r\nQ 14.796875 37.15625 21.921875 38.8125 \r\nz\r\nM 18.3125 54.390625 \r\nQ 18.3125 48.734375 21.84375 45.5625 \r\nQ 25.390625 42.390625 31.78125 42.390625 \r\nQ 38.140625 42.390625 41.71875 45.5625 \r\nQ 45.3125 48.734375 45.3125 54.390625 \r\nQ 45.3125 60.0625 41.71875 63.234375 \r\nQ 38.140625 66.40625 31.78125 66.40625 \r\nQ 25.390625 66.40625 21.84375 63.234375 \r\nQ 18.3125 60.0625 18.3125 54.390625 \r\nz\r\n\" id=\"DejaVuSans-56\"/>\r\n     </defs>\r\n     <use xlink:href=\"#DejaVuSans-51\"/>\r\n     <use x=\"63.623047\" xlink:href=\"#DejaVuSans-51\"/>\r\n     <use x=\"127.246094\" xlink:href=\"#DejaVuSans-56\"/>\r\n    </g>\r\n   </g>\r\n   <g id=\"text_8\">\r\n    <!-- 2364 -->\r\n    <g style=\"fill:#ff0000;\" transform=\"translate(210.633125 173.039375)scale(0.1 -0.1)\">\r\n     <defs>\r\n      <path d=\"M 19.1875 8.296875 \r\nL 53.609375 8.296875 \r\nL 53.609375 0 \r\nL 7.328125 0 \r\nL 7.328125 8.296875 \r\nQ 12.9375 14.109375 22.625 23.890625 \r\nQ 32.328125 33.6875 34.8125 36.53125 \r\nQ 39.546875 41.84375 41.421875 45.53125 \r\nQ 43.3125 49.21875 43.3125 52.78125 \r\nQ 43.3125 58.59375 39.234375 62.25 \r\nQ 35.15625 65.921875 28.609375 65.921875 \r\nQ 23.96875 65.921875 18.8125 64.3125 \r\nQ 13.671875 62.703125 7.8125 59.421875 \r\nL 7.8125 69.390625 \r\nQ 13.765625 71.78125 18.9375 73 \r\nQ 24.125 74.21875 28.421875 74.21875 \r\nQ 39.75 74.21875 46.484375 68.546875 \r\nQ 53.21875 62.890625 53.21875 53.421875 \r\nQ 53.21875 48.921875 51.53125 44.890625 \r\nQ 49.859375 40.875 45.40625 35.40625 \r\nQ 44.1875 33.984375 37.640625 27.21875 \r\nQ 31.109375 20.453125 19.1875 8.296875 \r\nz\r\n\" id=\"DejaVuSans-50\"/>\r\n      <path d=\"M 33.015625 40.375 \r\nQ 26.375 40.375 22.484375 35.828125 \r\nQ 18.609375 31.296875 18.609375 23.390625 \r\nQ 18.609375 15.53125 22.484375 10.953125 \r\nQ 26.375 6.390625 33.015625 6.390625 \r\nQ 39.65625 6.390625 43.53125 10.953125 \r\nQ 47.40625 15.53125 47.40625 23.390625 \r\nQ 47.40625 31.296875 43.53125 35.828125 \r\nQ 39.65625 40.375 33.015625 40.375 \r\nz\r\nM 52.59375 71.296875 \r\nL 52.59375 62.3125 \r\nQ 48.875 64.0625 45.09375 64.984375 \r\nQ 41.3125 65.921875 37.59375 65.921875 \r\nQ 27.828125 65.921875 22.671875 59.328125 \r\nQ 17.53125 52.734375 16.796875 39.40625 \r\nQ 19.671875 43.65625 24.015625 45.921875 \r\nQ 28.375 48.1875 33.59375 48.1875 \r\nQ 44.578125 48.1875 50.953125 41.515625 \r\nQ 57.328125 34.859375 57.328125 23.390625 \r\nQ 57.328125 12.15625 50.6875 5.359375 \r\nQ 44.046875 -1.421875 33.015625 -1.421875 \r\nQ 20.359375 -1.421875 13.671875 8.265625 \r\nQ 6.984375 17.96875 6.984375 36.375 \r\nQ 6.984375 53.65625 15.1875 63.9375 \r\nQ 23.390625 74.21875 37.203125 74.21875 \r\nQ 40.921875 74.21875 44.703125 73.484375 \r\nQ 48.484375 72.75 52.59375 71.296875 \r\nz\r\n\" id=\"DejaVuSans-54\"/>\r\n     </defs>\r\n     <use xlink:href=\"#DejaVuSans-50\"/>\r\n     <use x=\"63.623047\" xlink:href=\"#DejaVuSans-51\"/>\r\n     <use x=\"127.246094\" xlink:href=\"#DejaVuSans-54\"/>\r\n     <use x=\"190.869141\" xlink:href=\"#DejaVuSans-52\"/>\r\n    </g>\r\n   </g>\r\n  </g>\r\n </g>\r\n <defs>\r\n  <clipPath id=\"p5e68543757\">\r\n   <rect height=\"217.44\" width=\"217.44\" x=\"60.278125\" y=\"7.2\"/>\r\n  </clipPath>\r\n </defs>\r\n</svg>\r\n",
      "image/png": "[encoded data removed]"
     },
     "metadata": {
      "needs_background": "light"
     }
    }
   ],
   "metadata": {}
  },
  {
   "cell_type": "code",
   "execution_count": null,
   "source": [],
   "outputs": [],
   "metadata": {}
  }
 ]
}