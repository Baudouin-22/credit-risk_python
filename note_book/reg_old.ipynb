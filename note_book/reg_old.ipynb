{
 "metadata": {
  "language_info": {
   "codemirror_mode": {
    "name": "ipython",
    "version": 3
   },
   "file_extension": ".py",
   "mimetype": "text/x-python",
   "name": "python",
   "nbconvert_exporter": "python",
   "pygments_lexer": "ipython3",
   "version": "3.8.1"
  },
  "orig_nbformat": 2,
  "kernelspec": {
   "name": "python38164bitc55e60c214074ecfac433a220e351543",
   "display_name": "Python 3.8.1 64-bit"
  },
  "metadata": {
   "interpreter": {
    "hash": "e3554ce64491107d8cf4b9652a790dd08af6fe1aa190633f78d4dec965a2f202"
   }
  }
 },
 "nbformat": 4,
 "nbformat_minor": 2,
 "cells": [
  {
   "source": [
    "import numpy as np\n",
    "import pandas as pd\n",
    "import matplotlib.pyplot as plt\n",
    "from sklearn.preprocessing import StandardScaler\n",
    "from sklearn.linear_model import LogisticRegression\n",
    "from sklearn.metrics import classification_report, confusion_matrix\n",
    "\n",
    "data = pd.read_csv(\"data2.csv\", sep=\";\")\n",
    "print(\"Dimension = {}\".format(data.shape))\n",
    "data.head()"
   ],
   "cell_type": "code",
   "metadata": {},
   "execution_count": 1,
   "outputs": [
    {
     "output_type": "stream",
     "name": "stdout",
     "text": [
      "Dimension = (4999, 24)\n"
     ]
    },
    {
     "output_type": "execute_result",
     "data": {
      "text/plain": [
       "         CA  ResultatNet  ValeurAjoutee       EBE  ResultatExploitation  \\\n",
       "0  14605392      2315154        5853449   4410064               3693014   \n",
       "1  53272888      6661838       11972339   8971458              19931451   \n",
       "2   3203319       539512        1074096    767766               1565764   \n",
       "3  62835118      6874740       21770635  15253541              26499322   \n",
       "4  45609392      2494263       18540772  14414222              15830976   \n",
       "\n",
       "   ActifsEconomiques  FondsPropresNet   TotalBilan  FondsRoulement       BFR  \\\n",
       "0            3635532          5676520     46303080         2704587   1826645   \n",
       "1           15557881          9662577  44412253,33         7108976  10340452   \n",
       "2             923807           917360  4150092,308          629108    570144   \n",
       "3           19654341         10286202     76386000         8835558   4396590   \n",
       "4           11900434         12989752  22675118,18         4673809   4863777   \n",
       "\n",
       "   ...  Tresorerie  ChargesFinancieres      DMLT  ChargesPersonnel  \\\n",
       "0  ...      877942             2594541   5444598           2873239   \n",
       "1  ...    -3231476             6357126  18814407           8169904   \n",
       "2  ...       58964              519213    710273            408069   \n",
       "3  ...     4438968             7228236  17660955          11446605   \n",
       "4  ...     -189968             6950364  15726461           7101591   \n",
       "\n",
       "   AchatsConsommes  AchatsTTC  MoyenneStocks  MoyenneCreances  \\\n",
       "0          2191592    3487535        2637960          1666487   \n",
       "1          9444683   12145854        7502606          9552959   \n",
       "2           381126     576979         455580           506077   \n",
       "3         11422598   14122323        7997777          6736956   \n",
       "4          5158996    9496441        9094199          4891274   \n",
       "\n",
       "   MoyenneDettesFournisseurs  Defaut  \n",
       "0                    2477802       1  \n",
       "1                    6715113       1  \n",
       "2                     391513       0  \n",
       "3                   10338143       0  \n",
       "4                    9121696       1  \n",
       "\n",
       "[5 rows x 24 columns]"
      ],
      "text/html": "<div>\n<style scoped>\n    .dataframe tbody tr th:only-of-type {\n        vertical-align: middle;\n    }\n\n    .dataframe tbody tr th {\n        vertical-align: top;\n    }\n\n    .dataframe thead th {\n        text-align: right;\n    }\n</style>\n<table border=\"1\" class=\"dataframe\">\n  <thead>\n    <tr style=\"text-align: right;\">\n      <th></th>\n      <th>CA</th>\n      <th>ResultatNet</th>\n      <th>ValeurAjoutee</th>\n      <th>EBE</th>\n      <th>ResultatExploitation</th>\n      <th>ActifsEconomiques</th>\n      <th>FondsPropresNet</th>\n      <th>TotalBilan</th>\n      <th>FondsRoulement</th>\n      <th>BFR</th>\n      <th>...</th>\n      <th>Tresorerie</th>\n      <th>ChargesFinancieres</th>\n      <th>DMLT</th>\n      <th>ChargesPersonnel</th>\n      <th>AchatsConsommes</th>\n      <th>AchatsTTC</th>\n      <th>MoyenneStocks</th>\n      <th>MoyenneCreances</th>\n      <th>MoyenneDettesFournisseurs</th>\n      <th>Defaut</th>\n    </tr>\n  </thead>\n  <tbody>\n    <tr>\n      <th>0</th>\n      <td>14605392</td>\n      <td>2315154</td>\n      <td>5853449</td>\n      <td>4410064</td>\n      <td>3693014</td>\n      <td>3635532</td>\n      <td>5676520</td>\n      <td>46303080</td>\n      <td>2704587</td>\n      <td>1826645</td>\n      <td>...</td>\n      <td>877942</td>\n      <td>2594541</td>\n      <td>5444598</td>\n      <td>2873239</td>\n      <td>2191592</td>\n      <td>3487535</td>\n      <td>2637960</td>\n      <td>1666487</td>\n      <td>2477802</td>\n      <td>1</td>\n    </tr>\n    <tr>\n      <th>1</th>\n      <td>53272888</td>\n      <td>6661838</td>\n      <td>11972339</td>\n      <td>8971458</td>\n      <td>19931451</td>\n      <td>15557881</td>\n      <td>9662577</td>\n      <td>44412253,33</td>\n      <td>7108976</td>\n      <td>10340452</td>\n      <td>...</td>\n      <td>-3231476</td>\n      <td>6357126</td>\n      <td>18814407</td>\n      <td>8169904</td>\n      <td>9444683</td>\n      <td>12145854</td>\n      <td>7502606</td>\n      <td>9552959</td>\n      <td>6715113</td>\n      <td>1</td>\n    </tr>\n    <tr>\n      <th>2</th>\n      <td>3203319</td>\n      <td>539512</td>\n      <td>1074096</td>\n      <td>767766</td>\n      <td>1565764</td>\n      <td>923807</td>\n      <td>917360</td>\n      <td>4150092,308</td>\n      <td>629108</td>\n      <td>570144</td>\n      <td>...</td>\n      <td>58964</td>\n      <td>519213</td>\n      <td>710273</td>\n      <td>408069</td>\n      <td>381126</td>\n      <td>576979</td>\n      <td>455580</td>\n      <td>506077</td>\n      <td>391513</td>\n      <td>0</td>\n    </tr>\n    <tr>\n      <th>3</th>\n      <td>62835118</td>\n      <td>6874740</td>\n      <td>21770635</td>\n      <td>15253541</td>\n      <td>26499322</td>\n      <td>19654341</td>\n      <td>10286202</td>\n      <td>76386000</td>\n      <td>8835558</td>\n      <td>4396590</td>\n      <td>...</td>\n      <td>4438968</td>\n      <td>7228236</td>\n      <td>17660955</td>\n      <td>11446605</td>\n      <td>11422598</td>\n      <td>14122323</td>\n      <td>7997777</td>\n      <td>6736956</td>\n      <td>10338143</td>\n      <td>0</td>\n    </tr>\n    <tr>\n      <th>4</th>\n      <td>45609392</td>\n      <td>2494263</td>\n      <td>18540772</td>\n      <td>14414222</td>\n      <td>15830976</td>\n      <td>11900434</td>\n      <td>12989752</td>\n      <td>22675118,18</td>\n      <td>4673809</td>\n      <td>4863777</td>\n      <td>...</td>\n      <td>-189968</td>\n      <td>6950364</td>\n      <td>15726461</td>\n      <td>7101591</td>\n      <td>5158996</td>\n      <td>9496441</td>\n      <td>9094199</td>\n      <td>4891274</td>\n      <td>9121696</td>\n      <td>1</td>\n    </tr>\n  </tbody>\n</table>\n<p>5 rows × 24 columns</p>\n</div>"
     },
     "metadata": {},
     "execution_count": 1
    }
   ]
  },
  {
   "cell_type": "code",
   "execution_count": 2,
   "metadata": {},
   "outputs": [
    {
     "output_type": "stream",
     "name": "stdout",
     "text": [
      "<class 'pandas.core.frame.DataFrame'>\n"
     ]
    }
   ],
   "source": [
    "print(type(data))"
   ]
  },
  {
   "source": [
    "# I) CONSTRUCTION DU DATASET\n",
    "## 1) Libellé des Ratios et Fonction de convertion du texte en float\n",
    "## 2) Construction des Ratios et de la variable expliqué"
   ],
   "cell_type": "markdown",
   "metadata": {}
  },
  {
   "source": [
    "## I.1) Libellé des Ratios et Fonction de convertion"
   ],
   "cell_type": "markdown",
   "metadata": {}
  },
  {
   "cell_type": "code",
   "execution_count": 3,
   "metadata": {},
   "outputs": [
    {
     "output_type": "stream",
     "name": "stdout",
     "text": [
      "(4999, 25)\n"
     ]
    }
   ],
   "source": [
    "# Récupération de la taille de l'échantillon\n",
    "n = data.shape[0]\n",
    "# Libellé des Ratios\n",
    "features = ['RN_CA','REX_AE','EBE_CA','REX_CA','FPN_TB','FR_BFR','CP_AI','FPN_AIhp', 'CFN_CA', 'TN_CA', 'CharFin_EBE','CharFin_REX','DMLT_CFN','DMLT_EBE','DMLT_CP','CharFin_CA', 'DMLT_FPN', 'CP_TB','CharFin_VA','AI_CA','CharPers_CA','D_CLT','D_STK','D_Fourn', 'FR_CA']\n",
    "nRatios = len(features)\n",
    "X = np.zeros((n,len(features)))\n",
    "ylist = list()\n",
    "print(X.shape)"
   ]
  },
  {
   "cell_type": "code",
   "execution_count": 4,
   "metadata": {},
   "outputs": [],
   "source": [
    "# Fonction Permettant de convertir en float les nombre dont le séparateur décimal est la virgule ','\n",
    "def toFloat(str0):\n",
    "    value = 0\n",
    "    if type(str0) == str:\n",
    "        elmts = str0.split(sep=',')\n",
    "        str1 = elmts[0]\n",
    "        if len(elmts) > 1 :\n",
    "            str1 += '.' + elmts[1]\n",
    "        value = float(str1)\n",
    "    else:\n",
    "        value = float(str0)\n",
    "    return value\n",
    "#print(float(2.5))"
   ]
  },
  {
   "source": [
    "## I.2) Construction des Ratios et de la variable expliqué"
   ],
   "cell_type": "markdown",
   "metadata": {}
  },
  {
   "cell_type": "code",
   "execution_count": 5,
   "metadata": {},
   "outputs": [
    {
     "output_type": "stream",
     "name": "stdout",
     "text": [
      "[[ 1.58513650e-01  1.01581117e+00  3.01947664e-01 ...  4.33322261e+02\n   2.55770543e+02  1.85177296e-01]\n [ 1.25051189e-01  1.28111605e+00  1.68405700e-01 ...  2.85974464e+02\n   1.99034228e+02  1.33444539e-01]\n [ 1.68422814e-01  1.69490381e+00  2.39678284e-01 ...  4.30326978e+02\n   2.44280433e+02  1.96392554e-01]\n ...\n [-5.08913742e-02  1.03097228e+00  3.42940981e-01 ...  5.91128793e+02\n   2.50279511e+02  1.00121803e-01]\n [-1.06195935e-02  9.71568077e-01  1.59251705e-01 ...  5.18830538e+02\n   2.72948805e+02  1.43019903e-01]\n [ 2.40523072e-01  2.22911311e+00  2.15992785e-01 ...  4.61307744e+02\n   3.06323353e+02  1.83796783e-01]]\n[1 1 0 ... 1 1 0]\n"
     ]
    }
   ],
   "source": [
    "for i in range(n):\n",
    "    X[i][0] = data.ResultatNet[i]/data.CA[i]\n",
    "    X[i][1] = data.ResultatExploitation[i]/data.ActifsEconomiques[i]\n",
    "    X[i][2] = data.EBE[i]/data.CA[i]\n",
    "    X[i][3] = data.ResultatExploitation[i]/data.CA[i]\n",
    "    X[i][4] = toFloat(data.FondsPropresNet[i])/toFloat(data.TotalBilan[i])\n",
    "    X[i][5] = data.FondsRoulement[i]/toFloat(data.BFR[i])\n",
    "    X[i][6] = data.CapitauxPermanents[i]/data.ActifsImmobilises[i]\n",
    "    X[i][7] = data.FondsPropresNet[i]/data.ActifsImmobilisesHP[i]\n",
    "    X[i][8] = data.CashFlowNet[i]/data.CA[i]\n",
    "    X[i][9] = toFloat(data.Tresorerie[i])/data.CA[i]\n",
    "    X[i][10] = data.ChargesFinancieres[i]/data.EBE[i]\n",
    "    X[i][11] = data.ChargesFinancieres[i]/data.ResultatExploitation[i]\n",
    "    X[i][12] = data.DMLT[i]/data.CashFlowNet[i]\n",
    "    X[i][13] = data.DMLT[i]/data.EBE[i]\n",
    "    X[i][14] = data.DMLT[i]/data.CapitauxPermanents[i]\n",
    "    X[i][15] = data.ChargesFinancieres[i]/data.CA[i]\n",
    "    X[i][16] = data.DMLT[i]/data.FondsPropresNet[i]\n",
    "    X[i][17] = toFloat(data.CapitauxPermanents[i])/toFloat(data.TotalBilan[i])\n",
    "    X[i][18] = data.ChargesFinancieres[i]/data.ValeurAjoutee[i]\n",
    "    X[i][19] = data.ActifsImmobilises[i]/data.CA[i]\n",
    "    X[i][20] = data.ChargesPersonnel[i]/data.CA[i]\n",
    "    X[i][21] = (data.MoyenneCreances[i]*360)/data.CA[i]\n",
    "    X[i][22] = (data.MoyenneStocks[i]*360)/data.AchatsConsommes[i]\n",
    "    X[i][23] = (data.MoyenneDettesFournisseurs[i]*360)/data.AchatsTTC[i]\n",
    "    X[i][24] = data.FondsRoulement[i]/data.CA[i]\n",
    "    ylist.append(int(data.Defaut[i]))\n",
    "y = np.array(ylist)\n",
    "del(ylist)\n",
    "print(X)\n",
    "print(y)\n",
    "# Fonction d'obtention d'un ratio\n",
    "def getRatio(index, X_data):\n",
    "    n0 = len(X_data)\n",
    "    R = list()\n",
    "    for i in range(n0):\n",
    "        R.append(X_data[i][index])\n",
    "    return R"
   ]
  },
  {
   "source": [
    "# II) DESCRIPTION DES DONNEES\n",
    "## 1) Test de Skewness\n",
    "## 2) Test de Kurtosis\n",
    "## 3) Test de Normalité de Shapiro Wilk\n",
    "## 4) Test de correlation lineaire (Statistique de pearson)\n",
    "## 5) ANOVA à un facteur (Test de Fisher)"
   ],
   "cell_type": "markdown",
   "metadata": {}
  },
  {
   "source": [
    "## II.1) Test de Skewness"
   ],
   "cell_type": "markdown",
   "metadata": {}
  },
  {
   "cell_type": "code",
   "execution_count": 6,
   "metadata": {},
   "outputs": [
    {
     "output_type": "stream",
     "name": "stdout",
     "text": [
      "Skewness Positif - Distribution décalée à gauche\n\t['R1', 'R2', 'R3', 'R4', 'R5', 'R6', 'R7', 'R8', 'R11', 'R12', 'R13', 'R14', 'R15', 'R17', 'R18', 'R19', 'R20', 'R23', 'R24', 'R25']\nSkewness Négatif - Distribution décalée à droite\n\t['R9', 'R10', 'R16', 'R21', 'R22']\nSkewness Nul - Variable symétrique (Comme pour une distribution Normale)\n\t[]\n"
     ]
    }
   ],
   "source": [
    "from scipy.stats import skew\n",
    "positiveSkew = list()\n",
    "negativeSkew = list()\n",
    "nullSkew = list()\n",
    "for j in range(nRatios):\n",
    "    currentSkew = skew(getRatio(j, X))\n",
    "    if currentSkew > 0:\n",
    "        positiveSkew.append('R'+str(j+1))\n",
    "    elif currentSkew < 0:\n",
    "        negativeSkew.append('R'+str(j+1))\n",
    "    else:\n",
    "        nullSkew.append('R'+str(j+1))\n",
    "print(\"Skewness Positif - Distribution décalée à gauche\")\n",
    "print('\\t'+ str(positiveSkew))\n",
    "print(\"Skewness Négatif - Distribution décalée à droite\")\n",
    "print('\\t'+ str(negativeSkew))\n",
    "print(\"Skewness Nul - Variable symétrique (Comme pour une distribution Normale)\")\n",
    "print('\\t'+ str(nullSkew))"
   ]
  },
  {
   "source": [
    "## II.2) Test de Kurtosis"
   ],
   "cell_type": "markdown",
   "metadata": {}
  },
  {
   "cell_type": "code",
   "execution_count": 7,
   "metadata": {},
   "outputs": [
    {
     "output_type": "stream",
     "name": "stdout",
     "text": [
      "Kurtosis Positif - Distribution Pointue\n\t['R2', 'R5', 'R6', 'R7', 'R8', 'R11', 'R12', 'R14', 'R15', 'R17', 'R18', 'R19']\nKurtosis Négatif - Distribution applatie\n\t['R1', 'R3', 'R4', 'R9', 'R10', 'R13', 'R16', 'R20', 'R21', 'R22', 'R23', 'R24', 'R25']\nKurtosis Nul - Distribution ni pointue ni applatie (comme une loi normale)\n\t[]\n"
     ]
    }
   ],
   "source": [
    "from scipy.stats import kurtosis\n",
    "positiveKurtosis = list()\n",
    "negativeKurtosis = list()\n",
    "nullKurtosis = list()\n",
    "for j in range(nRatios):\n",
    "    currentKurtosis = kurtosis(getRatio(j, X))\n",
    "    if currentKurtosis > 0:\n",
    "        positiveKurtosis.append('R'+str(j+1))\n",
    "    elif currentKurtosis < 0:\n",
    "        negativeKurtosis.append('R'+str(j+1))\n",
    "    else :\n",
    "        nullKurtosis.append('R'+str(j+1))\n",
    "\n",
    "print(\"Kurtosis Positif - Distribution Pointue\")\n",
    "print('\\t'+ str(positiveKurtosis))\n",
    "print(\"Kurtosis Négatif - Distribution applatie\")\n",
    "print('\\t'+ str(negativeKurtosis))\n",
    "print(\"Kurtosis Nul - Distribution ni pointue ni applatie (comme une loi normale)\")\n",
    "print('\\t'+ str(nullKurtosis))"
   ]
  },
  {
   "source": [
    "## II.3) Test de Normalité de Shapiro Wilk"
   ],
   "cell_type": "markdown",
   "metadata": {}
  },
  {
   "source": [
    "from scipy.stats import shapiro\n",
    "\n",
    "for j in range(nRatios):\n",
    "\tstat, p = shapiro(getRatio(j, X))\n",
    "\tprint('R' + str(j+1) + ' :','stat=%.3f, p=%.3f' % (stat, p))\n",
    "\tif p > 0.05:\n",
    "\t\tprint('\\tProbablement Gaussienne')\n",
    "\telse:\n",
    "\t\tprint('\\tProbablement non Gaussienne')"
   ],
   "cell_type": "code",
   "metadata": {},
   "execution_count": 8,
   "outputs": [
    {
     "output_type": "stream",
     "name": "stdout",
     "text": [
      "R1 : stat=0.956, p=0.000\n",
      "\tProbablement non Gaussienne\n",
      "R2 : stat=0.948, p=0.000\n",
      "\tProbablement non Gaussienne\n",
      "R3 : stat=0.970, p=0.000\n",
      "\tProbablement non Gaussienne\n",
      "R4 : stat=0.995, p=0.000\n",
      "\tProbablement non Gaussienne\n",
      "R5 : stat=0.011, p=0.000\n",
      "\tProbablement non Gaussienne\n",
      "R6 : stat=0.666, p=0.000\n",
      "\tProbablement non Gaussienne\n",
      "R7 : stat=0.957, p=0.000\n",
      "\tProbablement non Gaussienne\n",
      "R8 : stat=0.958, p=0.000\n",
      "\tProbablement non Gaussienne\n",
      "R9 : stat=0.956, p=0.000\n",
      "\tProbablement non Gaussienne\n",
      "R10 : stat=0.999, p=0.000\n",
      "\tProbablement non Gaussienne\n",
      "R11 : stat=0.961, p=0.000\n",
      "\tProbablement non Gaussienne\n",
      "R12 : stat=0.953, p=0.000\n",
      "\tProbablement non Gaussienne\n",
      "R13 : stat=0.966, p=0.000\n",
      "\tProbablement non Gaussienne\n",
      "R14 : stat=0.956, p=0.000\n",
      "\tProbablement non Gaussienne\n",
      "R15 : stat=0.960, p=0.000\n",
      "\tProbablement non Gaussienne\n",
      "R16 : stat=0.952, p=0.000\n",
      "\tProbablement non Gaussienne\n",
      "R17 : stat=0.936, p=0.000\n",
      "\tProbablement non Gaussienne\n",
      "R18 : stat=0.012, p=0.000\n",
      "\tProbablement non Gaussienne\n",
      "R19 : stat=0.962, p=0.000\n",
      "\tProbablement non Gaussienne\n",
      "R20 : stat=0.956, p=0.000\n",
      "\tProbablement non Gaussienne\n",
      "R21 : stat=0.957, p=0.000\n",
      "\tProbablement non Gaussienne\n",
      "R22 : stat=0.954, p=0.000\n",
      "\tProbablement non Gaussienne\n",
      "R23 : stat=0.971, p=0.000\n",
      "\tProbablement non Gaussienne\n",
      "R24 : stat=0.979, p=0.000\n",
      "\tProbablement non Gaussienne\n",
      "R25 : stat=0.951, p=0.000\n",
      "\tProbablement non Gaussienne\n"
     ]
    }
   ]
  },
  {
   "source": [
    "## II.4) Test de correlation de Pearson (Test de corrélation linéaire)"
   ],
   "cell_type": "markdown",
   "metadata": {}
  },
  {
   "cell_type": "code",
   "execution_count": 9,
   "metadata": {},
   "outputs": [
    {
     "output_type": "stream",
     "name": "stdout",
     "text": [
      "Goupe  0\n",
      "\t['R0', 'R17', 'R24']\n",
      "Goupe  1\n",
      "\t['R1', 'R3', 'R10', 'R11', 'R12', 'R13', 'R14', 'R15', 'R16', 'R18', 'R20']\n",
      "Goupe  2\n",
      "\t['R2']\n",
      "Goupe  3\n",
      "\t['R4']\n",
      "Goupe  4\n",
      "\t['R5', 'R9', 'R19', 'R21', 'R22', 'R23']\n",
      "Goupe  5\n",
      "\t['R6', 'R7']\n",
      "Goupe  6\n",
      "\t['R8']\n"
     ]
    }
   ],
   "source": [
    "from scipy.stats import pearsonr\n",
    "ratiosList = list(range(nRatios))\n",
    "#print(ratiosList)\n",
    "linearGroups = list()\n",
    "indexLinearGroups = list()\n",
    "pos = 0\n",
    "while ratiosList:\n",
    "\t#print(ratiosList)\n",
    "\tcorrelated = list()\n",
    "\tgroup = list()\n",
    "\tj = ratiosList[0]\n",
    "\tcorrelated.append(j)\n",
    "\tgroup.append('R'+str(j))\n",
    "\tratiosList.remove(j)\n",
    "\n",
    "\tRn = getRatio(j, X)\n",
    "\tfor k in ratiosList:\n",
    "\t\tRm = getRatio(k, X)\n",
    "\t\tstat, p = pearsonr(Rn, Rm)\n",
    "\t\t#print('(R' + str(j+1) + ', R' + str(k+1) + ')','stat=%.3f, p=%.3f' % (stat, p))\n",
    "\t\tif p <= 0.05:\n",
    "\t\t\tcorrelated.append(k)\n",
    "\t\t\tgroup.append('R'+str(k))\n",
    "\tprint(\"Goupe \",pos)\n",
    "\tprint(\"\\t\"+ str(group))\n",
    "\tpos +=1\n",
    "\tindexLinearGroups.append(correlated.copy())\n",
    "\tlinearGroups.append(group)\n",
    "\tcorrelated.remove(j)\n",
    "\tfor el in correlated:\n",
    "\t\tratiosList.remove(el)"
   ]
  },
  {
   "cell_type": "code",
   "execution_count": 10,
   "metadata": {
    "tags": []
   },
   "outputs": [],
   "source": [
    "X_noLC = np.zeros((n,len(indexLinearGroups)))\n",
    "for i in range(n):\n",
    "    j = 0\n",
    "    for grp in indexLinearGroups:\n",
    "        X_noLC[i][j] = X[i][grp[0]]\n",
    "        j+=1"
   ]
  },
  {
   "cell_type": "code",
   "execution_count": 11,
   "metadata": {},
   "outputs": [
    {
     "output_type": "stream",
     "name": "stdout",
     "text": [
      "R1 stat=161.130, p=0.000\n",
      "\t Selection : OUI\n",
      "R2 stat=793.276, p=0.000\n",
      "\t Selection : OUI\n",
      "R3 stat=0.386, p=0.534\n",
      "\t Selection : NON\n",
      "R4 stat=5042.765, p=0.000\n",
      "\t Selection : OUI\n",
      "R5 stat=2.994, p=0.084\n",
      "\t Selection : NON\n",
      "R6 stat=28.348, p=0.000\n",
      "\t Selection : OUI\n",
      "R7 stat=0.160, p=0.689\n",
      "\t Selection : NON\n",
      "R8 stat=0.981, p=0.322\n",
      "\t Selection : NON\n",
      "R9 stat=2.257, p=0.133\n",
      "\t Selection : NON\n",
      "R10 stat=38.516, p=0.000\n",
      "\t Selection : OUI\n",
      "R11 stat=98.922, p=0.000\n",
      "\t Selection : OUI\n",
      "R12 stat=2101.579, p=0.000\n",
      "\t Selection : OUI\n",
      "R13 stat=1201.827, p=0.000\n",
      "\t Selection : OUI\n",
      "R14 stat=838.575, p=0.000\n",
      "\t Selection : OUI\n",
      "R15 stat=1097.341, p=0.000\n",
      "\t Selection : OUI\n",
      "R16 stat=289.271, p=0.000\n",
      "\t Selection : OUI\n",
      "R17 stat=798.020, p=0.000\n",
      "\t Selection : OUI\n",
      "R18 stat=3.627, p=0.057\n",
      "\t Selection : NON\n",
      "R19 stat=105.176, p=0.000\n",
      "\t Selection : OUI\n",
      "R20 stat=1.588, p=0.208\n",
      "\t Selection : NON\n",
      "R21 stat=265.274, p=0.000\n",
      "\t Selection : OUI\n",
      "R22 stat=10.142, p=0.001\n",
      "\t Selection : OUI\n",
      "R23 stat=2.367, p=0.124\n",
      "\t Selection : NON\n",
      "R24 stat=9.907, p=0.002\n",
      "\t Selection : OUI\n",
      "R25 stat=16.549, p=0.000\n",
      "\t Selection : OUI\n",
      "Liste des ratios sélectionnés\n",
      "[0, 1, 3, 5, 9, 10, 11, 12, 13, 14, 15, 16, 18, 20, 21, 23, 24]\n"
     ]
    }
   ],
   "source": [
    "# Example of the Analysis of Variance Test\r\n",
    "from scipy.stats import f_oneway\r\n",
    "from scipy.stats import ttest_ind\r\n",
    "def getRatioByClass(index, X_data, y):\r\n",
    "    n0 = len(X_data)\r\n",
    "    class0 = list()\r\n",
    "    class1 = list()\r\n",
    "    for i in range(n0):\r\n",
    "        if y[i] ==1 :\r\n",
    "            class1.append(X_data[i][index])\r\n",
    "        else:\r\n",
    "            class0.append(X_data[i][index])\r\n",
    "    return(class0,class1)\r\n",
    "\r\n",
    "indexSelect = list()\r\n",
    "for i in range(nRatios):\r\n",
    "    classes = getRatioByClass(i, X, y)\r\n",
    "    stat, p = f_oneway(classes[0], classes[1])\r\n",
    "    #stat1, p1 = ttest_ind(classes[0], classes[1])\r\n",
    "    print('R'+str(i+1)+' stat=%.3f, p=%.3f' % (stat, p))\r\n",
    "    #print('Student R'+str(i+1)+' stat=%.3f, p=%.3f' % (stat1, p1))\r\n",
    "    if p > 0.05:\r\n",
    "        print('\\t Selection : NON')\r\n",
    "    else:\r\n",
    "        indexSelect.append(i)\r\n",
    "        print('\\t Selection : OUI')\r\n",
    "print('Liste des ratios sélectionnés')\r\n",
    "print(indexSelect)"
   ]
  },
  {
   "cell_type": "code",
   "execution_count": 12,
   "metadata": {},
   "outputs": [],
   "source": [
    "X_select = np.zeros((n,len(indexSelect)))\n",
    "for i in range(n):\n",
    "    j = 0\n",
    "    for k in indexSelect:\n",
    "        X_select[i][j] = X[i][k]\n",
    "        j+=1"
   ]
  },
  {
   "source": [
    "# II) CONSTRUCTION DU MODEL"
   ],
   "cell_type": "markdown",
   "metadata": {}
  },
  {
   "cell_type": "code",
   "execution_count": 13,
   "metadata": {},
   "outputs": [
    {
     "output_type": "stream",
     "name": "stderr",
     "text": [
      "[Parallel(n_jobs=1)]: Using backend SequentialBackend with 1 concurrent workers.\n",
      "[Parallel(n_jobs=1)]: Done   1 out of   1 | elapsed:    0.1s finished\n"
     ]
    }
   ],
   "source": [
    "model = LogisticRegression(solver='newton-cg', verbose=1, max_iter = 1000, C = 1).fit(X_select,y)"
   ]
  },
  {
   "cell_type": "code",
   "execution_count": 14,
   "metadata": {},
   "outputs": [
    {
     "output_type": "execute_result",
     "data": {
      "text/plain": [
       "array([0, 1])"
      ]
     },
     "metadata": {},
     "execution_count": 14
    }
   ],
   "source": [
    "model.classes_"
   ]
  },
  {
   "cell_type": "code",
   "execution_count": 15,
   "metadata": {},
   "outputs": [
    {
     "output_type": "execute_result",
     "data": {
      "text/plain": [
       "array([-2.49490913])"
      ]
     },
     "metadata": {},
     "execution_count": 15
    }
   ],
   "source": [
    "model.intercept_"
   ]
  },
  {
   "cell_type": "code",
   "execution_count": 16,
   "metadata": {},
   "outputs": [
    {
     "output_type": "execute_result",
     "data": {
      "text/plain": [
       "array([[-5.78647598e+00, -3.56954307e-01, -8.79941656e+00,\n",
       "        -1.59602090e-01, -2.44541021e+00, -3.28522833e+00,\n",
       "         1.23918594e+01,  1.78954671e-01,  2.11071884e+00,\n",
       "         5.55528106e-01, -3.45304902e-02,  5.14366949e-01,\n",
       "        -1.17942126e+00,  4.46566008e+00,  9.09601555e-03,\n",
       "        -1.89322245e-03, -1.40861755e+00]])"
      ]
     },
     "metadata": {},
     "execution_count": 16
    }
   ],
   "source": [
    "model.coef_"
   ]
  },
  {
   "cell_type": "code",
   "execution_count": 17,
   "metadata": {},
   "outputs": [
    {
     "output_type": "execute_result",
     "data": {
      "text/plain": [
       "array([[1991,  306],\n",
       "       [ 333, 2369]], dtype=int64)"
      ]
     },
     "metadata": {},
     "execution_count": 17
    }
   ],
   "source": [
    "confusion_matrix(y, model.predict(X_select))"
   ]
  },
  {
   "cell_type": "code",
   "execution_count": 18,
   "metadata": {},
   "outputs": [
    {
     "output_type": "display_data",
     "data": {
      "text/plain": "<Figure size 288x288 with 1 Axes>",
      "image/svg+xml": "<?xml version=\"1.0\" encoding=\"utf-8\" standalone=\"no\"?>\r\n<!DOCTYPE svg PUBLIC \"-//W3C//DTD SVG 1.1//EN\"\r\n  \"http://www.w3.org/Graphics/SVG/1.1/DTD/svg11.dtd\">\r\n<!-- Created with matplotlib (https://matplotlib.org/) -->\r\n<svg height=\"248.518125pt\" version=\"1.1\" viewBox=\"0 0 284.918125 248.518125\" width=\"284.918125pt\" xmlns=\"http://www.w3.org/2000/svg\" xmlns:xlink=\"http://www.w3.org/1999/xlink\">\r\n <metadata>\r\n  <rdf:RDF xmlns:cc=\"http://creativecommons.org/ns#\" xmlns:dc=\"http://purl.org/dc/elements/1.1/\" xmlns:rdf=\"http://www.w3.org/1999/02/22-rdf-syntax-ns#\">\r\n   <cc:Work>\r\n    <dc:type rdf:resource=\"http://purl.org/dc/dcmitype/StillImage\"/>\r\n    <dc:date>2021-04-20T16:30:11.136832</dc:date>\r\n    <dc:format>image/svg+xml</dc:format>\r\n    <dc:creator>\r\n     <cc:Agent>\r\n      <dc:title>Matplotlib v3.3.3, https://matplotlib.org/</dc:title>\r\n     </cc:Agent>\r\n    </dc:creator>\r\n   </cc:Work>\r\n  </rdf:RDF>\r\n </metadata>\r\n <defs>\r\n  <style type=\"text/css\">*{stroke-linecap:butt;stroke-linejoin:round;}</style>\r\n </defs>\r\n <g id=\"figure_1\">\r\n  <g id=\"patch_1\">\r\n   <path d=\"M 0 248.518125 \r\nL 284.918125 248.518125 \r\nL 284.918125 0 \r\nL 0 0 \r\nz\r\n\" style=\"fill:none;\"/>\r\n  </g>\r\n  <g id=\"axes_1\">\r\n   <g id=\"patch_2\">\r\n    <path d=\"M 60.278125 224.64 \r\nL 277.718125 224.64 \r\nL 277.718125 7.2 \r\nL 60.278125 7.2 \r\nz\r\n\" style=\"fill:#ffffff;\"/>\r\n   </g>\r\n   <g clip-path=\"url(#p4e7182e0a5)\">\r\n    <image height=\"218\" id=\"imagef8b595efa9\" transform=\"scale(1 -1)translate(0 -218)\" width=\"218\" x=\"60.278125\" xlink:href=\"data:image/png;base64,\r\niVBORw0KGgoAAAANSUhEUgAAANoAAADaCAYAAADAHVzbAAACm0lEQVR4nO3VQQ0CQQAEQSCHCVRggccFC0g9EZfgAQcoAA376Q2hSsF8OnNcz4/PgZ+yvfbZExh0mj0A/oHQICA0CAgNAkKDgNAgIDQICA0CQoOA0CAgNAgIDQJCg4DQICA0CAgNAkKDgNAgIDQICA0CQoOA0CAgNAgIDQJCg4DQICA0CAgNAkKDgNAgIDQICA0CQoOA0CAgNAgIDQJCg4DQICA0CAgNAkKDgNAgIDQICA0CQoOA0CAgNAgIDQJCg4DQICA0CAgNAkKDgNAgIDQICA0CQoOA0CAgNAgIDQJCg4DQICA0CAgNAkKDgNAgIDQICA0CQoOA0CAgNAgIDQJCg4DQICA0CAgNAkKDgNAgIDQICA0CQoOA0CAgNAgIDQJCg4DQICA0CAgNAkKDgNAgIDQICA0CQoOA0CAgNAgIDQJCg4DQICA0CAgNAkKDgNAgIDQICA0CQoOA0CAgNAgIDQLL7fmevYFB98t19gQGeTQICA0CQoOA0CAgNAgIDQJCg4DQICA0CAgNAkKDgNAgIDQICA0CQoOA0CAgNAgIDQJCg4DQICA0CAgNAkKDgNAgIDQICA0CQoOA0CAgNAgIDQJCg4DQICA0CAgNAkKDgNAgIDQICA0CQoOA0CAgNAgIDQJCg4DQICA0CAgNAkKDgNAgIDQICA0CQoOA0CAgNAgIDQJCg4DQICA0CAgNAkKDgNAgIDQICA0CQoOA0CAgNAgIDQJCg4DQICA0CAgNAkKDgNAgIDQICA0CQoOA0CAgNAgIDQJCg4DQICA0CAgNAkKDgNAgIDQICA0CQoOA0CAgNAgIDQJCg4DQICA0CAgNAkKDgNAgIDQICA0CQoOA0CAgNAgIDQJCg4DQICA0CAgNAkKDgNAg8AUyNAhPge4KMQAAAABJRU5ErkJggg==\" y=\"-6.64\"/>\r\n   </g>\r\n   <g id=\"matplotlib.axis_1\">\r\n    <g id=\"xtick_1\">\r\n     <g id=\"line2d_1\">\r\n      <defs>\r\n       <path d=\"M 0 0 \r\nL 0 3.5 \r\n\" id=\"mc6e3491cd3\" style=\"stroke:#000000;stroke-width:0.8;\"/>\r\n      </defs>\r\n      <g>\r\n       <use style=\"stroke:#000000;stroke-width:0.8;\" x=\"114.638125\" xlink:href=\"#mc6e3491cd3\" y=\"224.64\"/>\r\n      </g>\r\n     </g>\r\n     <g id=\"text_1\">\r\n      <!-- Predicted 0s -->\r\n      <g transform=\"translate(83.792812 239.238437)scale(0.1 -0.1)\">\r\n       <defs>\r\n        <path d=\"M 19.671875 64.796875 \r\nL 19.671875 37.40625 \r\nL 32.078125 37.40625 \r\nQ 38.96875 37.40625 42.71875 40.96875 \r\nQ 46.484375 44.53125 46.484375 51.125 \r\nQ 46.484375 57.671875 42.71875 61.234375 \r\nQ 38.96875 64.796875 32.078125 64.796875 \r\nz\r\nM 9.8125 72.90625 \r\nL 32.078125 72.90625 \r\nQ 44.34375 72.90625 50.609375 67.359375 \r\nQ 56.890625 61.8125 56.890625 51.125 \r\nQ 56.890625 40.328125 50.609375 34.8125 \r\nQ 44.34375 29.296875 32.078125 29.296875 \r\nL 19.671875 29.296875 \r\nL 19.671875 0 \r\nL 9.8125 0 \r\nz\r\n\" id=\"DejaVuSans-80\"/>\r\n        <path d=\"M 41.109375 46.296875 \r\nQ 39.59375 47.171875 37.8125 47.578125 \r\nQ 36.03125 48 33.890625 48 \r\nQ 26.265625 48 22.1875 43.046875 \r\nQ 18.109375 38.09375 18.109375 28.8125 \r\nL 18.109375 0 \r\nL 9.078125 0 \r\nL 9.078125 54.6875 \r\nL 18.109375 54.6875 \r\nL 18.109375 46.1875 \r\nQ 20.953125 51.171875 25.484375 53.578125 \r\nQ 30.03125 56 36.53125 56 \r\nQ 37.453125 56 38.578125 55.875 \r\nQ 39.703125 55.765625 41.0625 55.515625 \r\nz\r\n\" id=\"DejaVuSans-114\"/>\r\n        <path d=\"M 56.203125 29.59375 \r\nL 56.203125 25.203125 \r\nL 14.890625 25.203125 \r\nQ 15.484375 15.921875 20.484375 11.0625 \r\nQ 25.484375 6.203125 34.421875 6.203125 \r\nQ 39.59375 6.203125 44.453125 7.46875 \r\nQ 49.3125 8.734375 54.109375 11.28125 \r\nL 54.109375 2.78125 \r\nQ 49.265625 0.734375 44.1875 -0.34375 \r\nQ 39.109375 -1.421875 33.890625 -1.421875 \r\nQ 20.796875 -1.421875 13.15625 6.1875 \r\nQ 5.515625 13.8125 5.515625 26.8125 \r\nQ 5.515625 40.234375 12.765625 48.109375 \r\nQ 20.015625 56 32.328125 56 \r\nQ 43.359375 56 49.78125 48.890625 \r\nQ 56.203125 41.796875 56.203125 29.59375 \r\nz\r\nM 47.21875 32.234375 \r\nQ 47.125 39.59375 43.09375 43.984375 \r\nQ 39.0625 48.390625 32.421875 48.390625 \r\nQ 24.90625 48.390625 20.390625 44.140625 \r\nQ 15.875 39.890625 15.1875 32.171875 \r\nz\r\n\" id=\"DejaVuSans-101\"/>\r\n        <path d=\"M 45.40625 46.390625 \r\nL 45.40625 75.984375 \r\nL 54.390625 75.984375 \r\nL 54.390625 0 \r\nL 45.40625 0 \r\nL 45.40625 8.203125 \r\nQ 42.578125 3.328125 38.25 0.953125 \r\nQ 33.9375 -1.421875 27.875 -1.421875 \r\nQ 17.96875 -1.421875 11.734375 6.484375 \r\nQ 5.515625 14.40625 5.515625 27.296875 \r\nQ 5.515625 40.1875 11.734375 48.09375 \r\nQ 17.96875 56 27.875 56 \r\nQ 33.9375 56 38.25 53.625 \r\nQ 42.578125 51.265625 45.40625 46.390625 \r\nz\r\nM 14.796875 27.296875 \r\nQ 14.796875 17.390625 18.875 11.75 \r\nQ 22.953125 6.109375 30.078125 6.109375 \r\nQ 37.203125 6.109375 41.296875 11.75 \r\nQ 45.40625 17.390625 45.40625 27.296875 \r\nQ 45.40625 37.203125 41.296875 42.84375 \r\nQ 37.203125 48.484375 30.078125 48.484375 \r\nQ 22.953125 48.484375 18.875 42.84375 \r\nQ 14.796875 37.203125 14.796875 27.296875 \r\nz\r\n\" id=\"DejaVuSans-100\"/>\r\n        <path d=\"M 9.421875 54.6875 \r\nL 18.40625 54.6875 \r\nL 18.40625 0 \r\nL 9.421875 0 \r\nz\r\nM 9.421875 75.984375 \r\nL 18.40625 75.984375 \r\nL 18.40625 64.59375 \r\nL 9.421875 64.59375 \r\nz\r\n\" id=\"DejaVuSans-105\"/>\r\n        <path d=\"M 48.78125 52.59375 \r\nL 48.78125 44.1875 \r\nQ 44.96875 46.296875 41.140625 47.34375 \r\nQ 37.3125 48.390625 33.40625 48.390625 \r\nQ 24.65625 48.390625 19.8125 42.84375 \r\nQ 14.984375 37.3125 14.984375 27.296875 \r\nQ 14.984375 17.28125 19.8125 11.734375 \r\nQ 24.65625 6.203125 33.40625 6.203125 \r\nQ 37.3125 6.203125 41.140625 7.25 \r\nQ 44.96875 8.296875 48.78125 10.40625 \r\nL 48.78125 2.09375 \r\nQ 45.015625 0.34375 40.984375 -0.53125 \r\nQ 36.96875 -1.421875 32.421875 -1.421875 \r\nQ 20.0625 -1.421875 12.78125 6.34375 \r\nQ 5.515625 14.109375 5.515625 27.296875 \r\nQ 5.515625 40.671875 12.859375 48.328125 \r\nQ 20.21875 56 33.015625 56 \r\nQ 37.15625 56 41.109375 55.140625 \r\nQ 45.0625 54.296875 48.78125 52.59375 \r\nz\r\n\" id=\"DejaVuSans-99\"/>\r\n        <path d=\"M 18.3125 70.21875 \r\nL 18.3125 54.6875 \r\nL 36.8125 54.6875 \r\nL 36.8125 47.703125 \r\nL 18.3125 47.703125 \r\nL 18.3125 18.015625 \r\nQ 18.3125 11.328125 20.140625 9.421875 \r\nQ 21.96875 7.515625 27.59375 7.515625 \r\nL 36.8125 7.515625 \r\nL 36.8125 0 \r\nL 27.59375 0 \r\nQ 17.1875 0 13.234375 3.875 \r\nQ 9.28125 7.765625 9.28125 18.015625 \r\nL 9.28125 47.703125 \r\nL 2.6875 47.703125 \r\nL 2.6875 54.6875 \r\nL 9.28125 54.6875 \r\nL 9.28125 70.21875 \r\nz\r\n\" id=\"DejaVuSans-116\"/>\r\n        <path id=\"DejaVuSans-32\"/>\r\n        <path d=\"M 31.78125 66.40625 \r\nQ 24.171875 66.40625 20.328125 58.90625 \r\nQ 16.5 51.421875 16.5 36.375 \r\nQ 16.5 21.390625 20.328125 13.890625 \r\nQ 24.171875 6.390625 31.78125 6.390625 \r\nQ 39.453125 6.390625 43.28125 13.890625 \r\nQ 47.125 21.390625 47.125 36.375 \r\nQ 47.125 51.421875 43.28125 58.90625 \r\nQ 39.453125 66.40625 31.78125 66.40625 \r\nz\r\nM 31.78125 74.21875 \r\nQ 44.046875 74.21875 50.515625 64.515625 \r\nQ 56.984375 54.828125 56.984375 36.375 \r\nQ 56.984375 17.96875 50.515625 8.265625 \r\nQ 44.046875 -1.421875 31.78125 -1.421875 \r\nQ 19.53125 -1.421875 13.0625 8.265625 \r\nQ 6.59375 17.96875 6.59375 36.375 \r\nQ 6.59375 54.828125 13.0625 64.515625 \r\nQ 19.53125 74.21875 31.78125 74.21875 \r\nz\r\n\" id=\"DejaVuSans-48\"/>\r\n        <path d=\"M 44.28125 53.078125 \r\nL 44.28125 44.578125 \r\nQ 40.484375 46.53125 36.375 47.5 \r\nQ 32.28125 48.484375 27.875 48.484375 \r\nQ 21.1875 48.484375 17.84375 46.4375 \r\nQ 14.5 44.390625 14.5 40.28125 \r\nQ 14.5 37.15625 16.890625 35.375 \r\nQ 19.28125 33.59375 26.515625 31.984375 \r\nL 29.59375 31.296875 \r\nQ 39.15625 29.25 43.1875 25.515625 \r\nQ 47.21875 21.78125 47.21875 15.09375 \r\nQ 47.21875 7.46875 41.1875 3.015625 \r\nQ 35.15625 -1.421875 24.609375 -1.421875 \r\nQ 20.21875 -1.421875 15.453125 -0.5625 \r\nQ 10.6875 0.296875 5.421875 2 \r\nL 5.421875 11.28125 \r\nQ 10.40625 8.6875 15.234375 7.390625 \r\nQ 20.0625 6.109375 24.8125 6.109375 \r\nQ 31.15625 6.109375 34.5625 8.28125 \r\nQ 37.984375 10.453125 37.984375 14.40625 \r\nQ 37.984375 18.0625 35.515625 20.015625 \r\nQ 33.0625 21.96875 24.703125 23.78125 \r\nL 21.578125 24.515625 \r\nQ 13.234375 26.265625 9.515625 29.90625 \r\nQ 5.8125 33.546875 5.8125 39.890625 \r\nQ 5.8125 47.609375 11.28125 51.796875 \r\nQ 16.75 56 26.8125 56 \r\nQ 31.78125 56 36.171875 55.265625 \r\nQ 40.578125 54.546875 44.28125 53.078125 \r\nz\r\n\" id=\"DejaVuSans-115\"/>\r\n       </defs>\r\n       <use xlink:href=\"#DejaVuSans-80\"/>\r\n       <use x=\"58.552734\" xlink:href=\"#DejaVuSans-114\"/>\r\n       <use x=\"97.416016\" xlink:href=\"#DejaVuSans-101\"/>\r\n       <use x=\"158.939453\" xlink:href=\"#DejaVuSans-100\"/>\r\n       <use x=\"222.416016\" xlink:href=\"#DejaVuSans-105\"/>\r\n       <use x=\"250.199219\" xlink:href=\"#DejaVuSans-99\"/>\r\n       <use x=\"305.179688\" xlink:href=\"#DejaVuSans-116\"/>\r\n       <use x=\"344.388672\" xlink:href=\"#DejaVuSans-101\"/>\r\n       <use x=\"405.912109\" xlink:href=\"#DejaVuSans-100\"/>\r\n       <use x=\"469.388672\" xlink:href=\"#DejaVuSans-32\"/>\r\n       <use x=\"501.175781\" xlink:href=\"#DejaVuSans-48\"/>\r\n       <use x=\"564.798828\" xlink:href=\"#DejaVuSans-115\"/>\r\n      </g>\r\n     </g>\r\n    </g>\r\n    <g id=\"xtick_2\">\r\n     <g id=\"line2d_2\">\r\n      <g>\r\n       <use style=\"stroke:#000000;stroke-width:0.8;\" x=\"223.358125\" xlink:href=\"#mc6e3491cd3\" y=\"224.64\"/>\r\n      </g>\r\n     </g>\r\n     <g id=\"text_2\">\r\n      <!-- Predicted 1s -->\r\n      <g transform=\"translate(192.512812 239.238437)scale(0.1 -0.1)\">\r\n       <defs>\r\n        <path d=\"M 12.40625 8.296875 \r\nL 28.515625 8.296875 \r\nL 28.515625 63.921875 \r\nL 10.984375 60.40625 \r\nL 10.984375 69.390625 \r\nL 28.421875 72.90625 \r\nL 38.28125 72.90625 \r\nL 38.28125 8.296875 \r\nL 54.390625 8.296875 \r\nL 54.390625 0 \r\nL 12.40625 0 \r\nz\r\n\" id=\"DejaVuSans-49\"/>\r\n       </defs>\r\n       <use xlink:href=\"#DejaVuSans-80\"/>\r\n       <use x=\"58.552734\" xlink:href=\"#DejaVuSans-114\"/>\r\n       <use x=\"97.416016\" xlink:href=\"#DejaVuSans-101\"/>\r\n       <use x=\"158.939453\" xlink:href=\"#DejaVuSans-100\"/>\r\n       <use x=\"222.416016\" xlink:href=\"#DejaVuSans-105\"/>\r\n       <use x=\"250.199219\" xlink:href=\"#DejaVuSans-99\"/>\r\n       <use x=\"305.179688\" xlink:href=\"#DejaVuSans-116\"/>\r\n       <use x=\"344.388672\" xlink:href=\"#DejaVuSans-101\"/>\r\n       <use x=\"405.912109\" xlink:href=\"#DejaVuSans-100\"/>\r\n       <use x=\"469.388672\" xlink:href=\"#DejaVuSans-32\"/>\r\n       <use x=\"501.175781\" xlink:href=\"#DejaVuSans-49\"/>\r\n       <use x=\"564.798828\" xlink:href=\"#DejaVuSans-115\"/>\r\n      </g>\r\n     </g>\r\n    </g>\r\n   </g>\r\n   <g id=\"matplotlib.axis_2\">\r\n    <g id=\"ytick_1\">\r\n     <g id=\"line2d_3\">\r\n      <defs>\r\n       <path d=\"M 0 0 \r\nL -3.5 0 \r\n\" id=\"mff95b8e2ab\" style=\"stroke:#000000;stroke-width:0.8;\"/>\r\n      </defs>\r\n      <g>\r\n       <use style=\"stroke:#000000;stroke-width:0.8;\" x=\"60.278125\" xlink:href=\"#mff95b8e2ab\" y=\"61.56\"/>\r\n      </g>\r\n     </g>\r\n     <g id=\"text_3\">\r\n      <!-- Actual 0s -->\r\n      <g transform=\"translate(7.2 65.359219)scale(0.1 -0.1)\">\r\n       <defs>\r\n        <path d=\"M 34.1875 63.1875 \r\nL 20.796875 26.90625 \r\nL 47.609375 26.90625 \r\nz\r\nM 28.609375 72.90625 \r\nL 39.796875 72.90625 \r\nL 67.578125 0 \r\nL 57.328125 0 \r\nL 50.6875 18.703125 \r\nL 17.828125 18.703125 \r\nL 11.1875 0 \r\nL 0.78125 0 \r\nz\r\n\" id=\"DejaVuSans-65\"/>\r\n        <path d=\"M 8.5 21.578125 \r\nL 8.5 54.6875 \r\nL 17.484375 54.6875 \r\nL 17.484375 21.921875 \r\nQ 17.484375 14.15625 20.5 10.265625 \r\nQ 23.53125 6.390625 29.59375 6.390625 \r\nQ 36.859375 6.390625 41.078125 11.03125 \r\nQ 45.3125 15.671875 45.3125 23.6875 \r\nL 45.3125 54.6875 \r\nL 54.296875 54.6875 \r\nL 54.296875 0 \r\nL 45.3125 0 \r\nL 45.3125 8.40625 \r\nQ 42.046875 3.421875 37.71875 1 \r\nQ 33.40625 -1.421875 27.6875 -1.421875 \r\nQ 18.265625 -1.421875 13.375 4.4375 \r\nQ 8.5 10.296875 8.5 21.578125 \r\nz\r\nM 31.109375 56 \r\nz\r\n\" id=\"DejaVuSans-117\"/>\r\n        <path d=\"M 34.28125 27.484375 \r\nQ 23.390625 27.484375 19.1875 25 \r\nQ 14.984375 22.515625 14.984375 16.5 \r\nQ 14.984375 11.71875 18.140625 8.90625 \r\nQ 21.296875 6.109375 26.703125 6.109375 \r\nQ 34.1875 6.109375 38.703125 11.40625 \r\nQ 43.21875 16.703125 43.21875 25.484375 \r\nL 43.21875 27.484375 \r\nz\r\nM 52.203125 31.203125 \r\nL 52.203125 0 \r\nL 43.21875 0 \r\nL 43.21875 8.296875 \r\nQ 40.140625 3.328125 35.546875 0.953125 \r\nQ 30.953125 -1.421875 24.3125 -1.421875 \r\nQ 15.921875 -1.421875 10.953125 3.296875 \r\nQ 6 8.015625 6 15.921875 \r\nQ 6 25.140625 12.171875 29.828125 \r\nQ 18.359375 34.515625 30.609375 34.515625 \r\nL 43.21875 34.515625 \r\nL 43.21875 35.40625 \r\nQ 43.21875 41.609375 39.140625 45 \r\nQ 35.0625 48.390625 27.6875 48.390625 \r\nQ 23 48.390625 18.546875 47.265625 \r\nQ 14.109375 46.140625 10.015625 43.890625 \r\nL 10.015625 52.203125 \r\nQ 14.9375 54.109375 19.578125 55.046875 \r\nQ 24.21875 56 28.609375 56 \r\nQ 40.484375 56 46.34375 49.84375 \r\nQ 52.203125 43.703125 52.203125 31.203125 \r\nz\r\n\" id=\"DejaVuSans-97\"/>\r\n        <path d=\"M 9.421875 75.984375 \r\nL 18.40625 75.984375 \r\nL 18.40625 0 \r\nL 9.421875 0 \r\nz\r\n\" id=\"DejaVuSans-108\"/>\r\n       </defs>\r\n       <use xlink:href=\"#DejaVuSans-65\"/>\r\n       <use x=\"66.658203\" xlink:href=\"#DejaVuSans-99\"/>\r\n       <use x=\"121.638672\" xlink:href=\"#DejaVuSans-116\"/>\r\n       <use x=\"160.847656\" xlink:href=\"#DejaVuSans-117\"/>\r\n       <use x=\"224.226562\" xlink:href=\"#DejaVuSans-97\"/>\r\n       <use x=\"285.505859\" xlink:href=\"#DejaVuSans-108\"/>\r\n       <use x=\"313.289062\" xlink:href=\"#DejaVuSans-32\"/>\r\n       <use x=\"345.076172\" xlink:href=\"#DejaVuSans-48\"/>\r\n       <use x=\"408.699219\" xlink:href=\"#DejaVuSans-115\"/>\r\n      </g>\r\n     </g>\r\n    </g>\r\n    <g id=\"ytick_2\">\r\n     <g id=\"line2d_4\">\r\n      <g>\r\n       <use style=\"stroke:#000000;stroke-width:0.8;\" x=\"60.278125\" xlink:href=\"#mff95b8e2ab\" y=\"170.28\"/>\r\n      </g>\r\n     </g>\r\n     <g id=\"text_4\">\r\n      <!-- Actual 1s -->\r\n      <g transform=\"translate(7.2 174.079219)scale(0.1 -0.1)\">\r\n       <use xlink:href=\"#DejaVuSans-65\"/>\r\n       <use x=\"66.658203\" xlink:href=\"#DejaVuSans-99\"/>\r\n       <use x=\"121.638672\" xlink:href=\"#DejaVuSans-116\"/>\r\n       <use x=\"160.847656\" xlink:href=\"#DejaVuSans-117\"/>\r\n       <use x=\"224.226562\" xlink:href=\"#DejaVuSans-97\"/>\r\n       <use x=\"285.505859\" xlink:href=\"#DejaVuSans-108\"/>\r\n       <use x=\"313.289062\" xlink:href=\"#DejaVuSans-32\"/>\r\n       <use x=\"345.076172\" xlink:href=\"#DejaVuSans-49\"/>\r\n       <use x=\"408.699219\" xlink:href=\"#DejaVuSans-115\"/>\r\n      </g>\r\n     </g>\r\n    </g>\r\n   </g>\r\n   <g id=\"patch_3\">\r\n    <path d=\"M 60.278125 224.64 \r\nL 60.278125 7.2 \r\n\" style=\"fill:none;stroke:#000000;stroke-linecap:square;stroke-linejoin:miter;stroke-width:0.8;\"/>\r\n   </g>\r\n   <g id=\"patch_4\">\r\n    <path d=\"M 277.718125 224.64 \r\nL 277.718125 7.2 \r\n\" style=\"fill:none;stroke:#000000;stroke-linecap:square;stroke-linejoin:miter;stroke-width:0.8;\"/>\r\n   </g>\r\n   <g id=\"patch_5\">\r\n    <path d=\"M 60.278125 224.64 \r\nL 277.718125 224.64 \r\n\" style=\"fill:none;stroke:#000000;stroke-linecap:square;stroke-linejoin:miter;stroke-width:0.8;\"/>\r\n   </g>\r\n   <g id=\"patch_6\">\r\n    <path d=\"M 60.278125 7.2 \r\nL 277.718125 7.2 \r\n\" style=\"fill:none;stroke:#000000;stroke-linecap:square;stroke-linejoin:miter;stroke-width:0.8;\"/>\r\n   </g>\r\n   <g id=\"text_5\">\r\n    <!-- 1991 -->\r\n    <g style=\"fill:#ff0000;\" transform=\"translate(101.913125 64.319375)scale(0.1 -0.1)\">\r\n     <defs>\r\n      <path d=\"M 10.984375 1.515625 \r\nL 10.984375 10.5 \r\nQ 14.703125 8.734375 18.5 7.8125 \r\nQ 22.3125 6.890625 25.984375 6.890625 \r\nQ 35.75 6.890625 40.890625 13.453125 \r\nQ 46.046875 20.015625 46.78125 33.40625 \r\nQ 43.953125 29.203125 39.59375 26.953125 \r\nQ 35.25 24.703125 29.984375 24.703125 \r\nQ 19.046875 24.703125 12.671875 31.3125 \r\nQ 6.296875 37.9375 6.296875 49.421875 \r\nQ 6.296875 60.640625 12.9375 67.421875 \r\nQ 19.578125 74.21875 30.609375 74.21875 \r\nQ 43.265625 74.21875 49.921875 64.515625 \r\nQ 56.59375 54.828125 56.59375 36.375 \r\nQ 56.59375 19.140625 48.40625 8.859375 \r\nQ 40.234375 -1.421875 26.421875 -1.421875 \r\nQ 22.703125 -1.421875 18.890625 -0.6875 \r\nQ 15.09375 0.046875 10.984375 1.515625 \r\nz\r\nM 30.609375 32.421875 \r\nQ 37.25 32.421875 41.125 36.953125 \r\nQ 45.015625 41.5 45.015625 49.421875 \r\nQ 45.015625 57.28125 41.125 61.84375 \r\nQ 37.25 66.40625 30.609375 66.40625 \r\nQ 23.96875 66.40625 20.09375 61.84375 \r\nQ 16.21875 57.28125 16.21875 49.421875 \r\nQ 16.21875 41.5 20.09375 36.953125 \r\nQ 23.96875 32.421875 30.609375 32.421875 \r\nz\r\n\" id=\"DejaVuSans-57\"/>\r\n     </defs>\r\n     <use xlink:href=\"#DejaVuSans-49\"/>\r\n     <use x=\"63.623047\" xlink:href=\"#DejaVuSans-57\"/>\r\n     <use x=\"127.246094\" xlink:href=\"#DejaVuSans-57\"/>\r\n     <use x=\"190.869141\" xlink:href=\"#DejaVuSans-49\"/>\r\n    </g>\r\n   </g>\r\n   <g id=\"text_6\">\r\n    <!-- 306 -->\r\n    <g style=\"fill:#ff0000;\" transform=\"translate(213.814375 64.319375)scale(0.1 -0.1)\">\r\n     <defs>\r\n      <path d=\"M 40.578125 39.3125 \r\nQ 47.65625 37.796875 51.625 33 \r\nQ 55.609375 28.21875 55.609375 21.1875 \r\nQ 55.609375 10.40625 48.1875 4.484375 \r\nQ 40.765625 -1.421875 27.09375 -1.421875 \r\nQ 22.515625 -1.421875 17.65625 -0.515625 \r\nQ 12.796875 0.390625 7.625 2.203125 \r\nL 7.625 11.71875 \r\nQ 11.71875 9.328125 16.59375 8.109375 \r\nQ 21.484375 6.890625 26.8125 6.890625 \r\nQ 36.078125 6.890625 40.9375 10.546875 \r\nQ 45.796875 14.203125 45.796875 21.1875 \r\nQ 45.796875 27.640625 41.28125 31.265625 \r\nQ 36.765625 34.90625 28.71875 34.90625 \r\nL 20.21875 34.90625 \r\nL 20.21875 43.015625 \r\nL 29.109375 43.015625 \r\nQ 36.375 43.015625 40.234375 45.921875 \r\nQ 44.09375 48.828125 44.09375 54.296875 \r\nQ 44.09375 59.90625 40.109375 62.90625 \r\nQ 36.140625 65.921875 28.71875 65.921875 \r\nQ 24.65625 65.921875 20.015625 65.03125 \r\nQ 15.375 64.15625 9.8125 62.3125 \r\nL 9.8125 71.09375 \r\nQ 15.4375 72.65625 20.34375 73.4375 \r\nQ 25.25 74.21875 29.59375 74.21875 \r\nQ 40.828125 74.21875 47.359375 69.109375 \r\nQ 53.90625 64.015625 53.90625 55.328125 \r\nQ 53.90625 49.265625 50.4375 45.09375 \r\nQ 46.96875 40.921875 40.578125 39.3125 \r\nz\r\n\" id=\"DejaVuSans-51\"/>\r\n      <path d=\"M 33.015625 40.375 \r\nQ 26.375 40.375 22.484375 35.828125 \r\nQ 18.609375 31.296875 18.609375 23.390625 \r\nQ 18.609375 15.53125 22.484375 10.953125 \r\nQ 26.375 6.390625 33.015625 6.390625 \r\nQ 39.65625 6.390625 43.53125 10.953125 \r\nQ 47.40625 15.53125 47.40625 23.390625 \r\nQ 47.40625 31.296875 43.53125 35.828125 \r\nQ 39.65625 40.375 33.015625 40.375 \r\nz\r\nM 52.59375 71.296875 \r\nL 52.59375 62.3125 \r\nQ 48.875 64.0625 45.09375 64.984375 \r\nQ 41.3125 65.921875 37.59375 65.921875 \r\nQ 27.828125 65.921875 22.671875 59.328125 \r\nQ 17.53125 52.734375 16.796875 39.40625 \r\nQ 19.671875 43.65625 24.015625 45.921875 \r\nQ 28.375 48.1875 33.59375 48.1875 \r\nQ 44.578125 48.1875 50.953125 41.515625 \r\nQ 57.328125 34.859375 57.328125 23.390625 \r\nQ 57.328125 12.15625 50.6875 5.359375 \r\nQ 44.046875 -1.421875 33.015625 -1.421875 \r\nQ 20.359375 -1.421875 13.671875 8.265625 \r\nQ 6.984375 17.96875 6.984375 36.375 \r\nQ 6.984375 53.65625 15.1875 63.9375 \r\nQ 23.390625 74.21875 37.203125 74.21875 \r\nQ 40.921875 74.21875 44.703125 73.484375 \r\nQ 48.484375 72.75 52.59375 71.296875 \r\nz\r\n\" id=\"DejaVuSans-54\"/>\r\n     </defs>\r\n     <use xlink:href=\"#DejaVuSans-51\"/>\r\n     <use x=\"63.623047\" xlink:href=\"#DejaVuSans-48\"/>\r\n     <use x=\"127.246094\" xlink:href=\"#DejaVuSans-54\"/>\r\n    </g>\r\n   </g>\r\n   <g id=\"text_7\">\r\n    <!-- 333 -->\r\n    <g style=\"fill:#ff0000;\" transform=\"translate(105.094375 173.039375)scale(0.1 -0.1)\">\r\n     <use xlink:href=\"#DejaVuSans-51\"/>\r\n     <use x=\"63.623047\" xlink:href=\"#DejaVuSans-51\"/>\r\n     <use x=\"127.246094\" xlink:href=\"#DejaVuSans-51\"/>\r\n    </g>\r\n   </g>\r\n   <g id=\"text_8\">\r\n    <!-- 2369 -->\r\n    <g style=\"fill:#ff0000;\" transform=\"translate(210.633125 173.039375)scale(0.1 -0.1)\">\r\n     <defs>\r\n      <path d=\"M 19.1875 8.296875 \r\nL 53.609375 8.296875 \r\nL 53.609375 0 \r\nL 7.328125 0 \r\nL 7.328125 8.296875 \r\nQ 12.9375 14.109375 22.625 23.890625 \r\nQ 32.328125 33.6875 34.8125 36.53125 \r\nQ 39.546875 41.84375 41.421875 45.53125 \r\nQ 43.3125 49.21875 43.3125 52.78125 \r\nQ 43.3125 58.59375 39.234375 62.25 \r\nQ 35.15625 65.921875 28.609375 65.921875 \r\nQ 23.96875 65.921875 18.8125 64.3125 \r\nQ 13.671875 62.703125 7.8125 59.421875 \r\nL 7.8125 69.390625 \r\nQ 13.765625 71.78125 18.9375 73 \r\nQ 24.125 74.21875 28.421875 74.21875 \r\nQ 39.75 74.21875 46.484375 68.546875 \r\nQ 53.21875 62.890625 53.21875 53.421875 \r\nQ 53.21875 48.921875 51.53125 44.890625 \r\nQ 49.859375 40.875 45.40625 35.40625 \r\nQ 44.1875 33.984375 37.640625 27.21875 \r\nQ 31.109375 20.453125 19.1875 8.296875 \r\nz\r\n\" id=\"DejaVuSans-50\"/>\r\n     </defs>\r\n     <use xlink:href=\"#DejaVuSans-50\"/>\r\n     <use x=\"63.623047\" xlink:href=\"#DejaVuSans-51\"/>\r\n     <use x=\"127.246094\" xlink:href=\"#DejaVuSans-54\"/>\r\n     <use x=\"190.869141\" xlink:href=\"#DejaVuSans-57\"/>\r\n    </g>\r\n   </g>\r\n  </g>\r\n </g>\r\n <defs>\r\n  <clipPath id=\"p4e7182e0a5\">\r\n   <rect height=\"217.44\" width=\"217.44\" x=\"60.278125\" y=\"7.2\"/>\r\n  </clipPath>\r\n </defs>\r\n</svg>\r\n",
      "image/png": "[encoded data removed]"
     },
     "metadata": {
      "needs_background": "light"
     }
    }
   ],
   "source": [
    "cm = confusion_matrix(y, model.predict(X_select))\n",
    "\n",
    "fig, ax = plt.subplots(figsize=(4, 4))\n",
    "ax.imshow(cm)\n",
    "ax.grid(False)\n",
    "ax.xaxis.set(ticks=(0, 1), ticklabels=('Predicted 0s', 'Predicted 1s'))\n",
    "ax.yaxis.set(ticks=(0, 1), ticklabels=('Actual 0s', 'Actual 1s'))\n",
    "ax.set_ylim(1.5, -0.5)\n",
    "for i in range(2):\n",
    "    for j in range(2):\n",
    "        ax.text(j, i, cm[i, j], ha='center', va='center', color='red')\n",
    "plt.show()"
   ]
  },
  {
   "cell_type": "code",
   "execution_count": null,
   "metadata": {},
   "outputs": [],
   "source": []
  }
 ]
}